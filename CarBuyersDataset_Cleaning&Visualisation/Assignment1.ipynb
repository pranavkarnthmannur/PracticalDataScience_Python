{
 "cells": [
  {
   "cell_type": "code",
   "execution_count": 37,
   "metadata": {},
   "outputs": [],
   "source": [
    "import pandas as pd\n",
    "import numpy as np\n",
    "import matplotlib.pyplot as plt"
   ]
  },
  {
   "cell_type": "markdown",
   "metadata": {},
   "source": [
    "# Data Preparation"
   ]
  },
  {
   "cell_type": "markdown",
   "metadata": {},
   "source": [
    "### Step 1"
   ]
  },
  {
   "cell_type": "code",
   "execution_count": 38,
   "metadata": {},
   "outputs": [],
   "source": [
    "# Reading all the CSV files and renaming the columns \n",
    "header_names = [\"Engine_CC\"]\n",
    "engineCC = pd.read_csv('Engine CC.csv',header=None,skiprows=1,names=header_names)\n",
    "Female = pd.read_csv('Female.csv')\n",
    "Fuel = pd.read_csv('Fuel.csv')\n",
    "Male = pd.read_csv('Male.csv')\n",
    "Manufacturer = pd.read_csv('Manufacturer.csv')\n",
    "Model = pd.read_csv('Model.csv')\n",
    "Power = pd.read_csv('Power.csv')\n",
    "Price = pd.read_csv('Price.csv')\n",
    "Transmission = pd.read_csv('Transmission.csv')\n",
    "Total = pd.read_csv('Total.csv')\n",
    "header_names = ['Gender_Unclassified']\n",
    "Unknown = pd.read_csv('Unknown.csv',header=None,skiprows=1,names=header_names)"
   ]
  },
  {
   "cell_type": "code",
   "execution_count": 39,
   "metadata": {},
   "outputs": [],
   "source": [
    "#joining all the required columns into a Dataframe\n",
    "import numpy as np\n",
    "\n",
    "df = pd.DataFrame({\n",
    "    'Manufacturer':Manufacturer.Manufacturer,\n",
    "    'Model':Model.Model,\n",
    "    'Price':Price.Price,\n",
    "    'Transmission':Transmission.Transmission,\n",
    "    'Power':Power.Power,\n",
    "    'Engine_CC':engineCC.Engine_CC,\n",
    "    'Fuel': Fuel.Fuel,\n",
    "    'Male':Male.Male,\n",
    "    'Female': Female.Female,\n",
    "    'Gender_Unclassified':Unknown.Gender_Unclassified,\n",
    "    'Total':Total.Total\n",
    "})\n",
    "\n",
    "Dataframe_beforecleaning = df.copy()"
   ]
  },
  {
   "cell_type": "markdown",
   "metadata": {},
   "source": [
    "### Step 2"
   ]
  },
  {
   "cell_type": "code",
   "execution_count": 40,
   "metadata": {},
   "outputs": [],
   "source": [
    "# Making sure Model and Manufacturer is in the mentioned list \n",
    "df =df.loc[df.Model.isin(['Clio', '320i', 'Polo', '206', 'Mondeo', 'Micra', 'Civic', 'Ka+',\n",
    "'Megane', 'Yaris', 'CLA', 'A4', 'Passat', 'A3', '307', '207',\n",
    "'Xsara', 'Fabia', '118i', 'Freelander', 'C3', 'Corolla', '535i',\n",
    "'Avensis', 'E', 'Scenic', 'Ibiza', 'Range', 'Qashqai+2', 'Octavia',\n",
    "'500L', 'A', 'Almera', 'C4', 'C5', 'C6', 'Two', 'One', 'RAV4',\n",
    "'RAV5', '9-3X', '107', 'Aygo', 'I10', 'I11', 'A6', 'Picanto',\n",
    "'Note', 'Leon', 'XE', 'Fusion', 'Accord', 'MX-5', '6', 'C1',\n",
    "'Swift', 'Galaxy', '308', '3', 'TT', 'Laguna', '2', 'Panda',\n",
    "'Auris', '306', '106', 'V70', 'Saxo', 'Touran', 'Beetle', 'Rio',\n",
    "'C-MAX', 'X5', 'Juke', 'Vitara', 'Ceed', '406', 'Getz', 'X-Trail',\n",
    "'CLK', 'S40', '75', 'Berlingo', 'Alto', 'Primera', 'I20', 'SLK',\n",
    "'S-MAX', 'ML', 'Sportage', '407', 'C2', 'I30', 'XF', 'A1', 'Colt',\n",
    "'A5', 'S-Type', 'V50', 'Escort', 'XC90', 'V40', 'X3', 'Tiguan',\n",
    "'B', 'Fortwo', 'Bora', '45', '911', 'XJ', 'Impreza', '09-May',\n",
    "'Celica', 'Sharan', 'Santa', '208', 'S60', 'DS3', 'Modus', 'ZR',\n",
    "'Voyager', 'Sorento', 'Z4', '2000', 'Up', 'Jimny', 'Matiz',\n",
    "'Boxster', 'Wagon', '3008', '323', 'Puma', 'Stilo', 'Scirocco',\n",
    "'XK', 'Altea', 'C30', 'Accent', 'Lupo', 'Sprinter', 'Ix35',\n",
    "'Kangoo', '5', 'Jetta', 'Alhambra', 'Espace', 'Ignis', 'SX4',\n",
    "'Carens', 'Q5', 'Partner', 'Yeti', 'Touareg', 'Seicento', 'Superb',\n",
    "'Bravo', 'X1', 'Q7', '147', 'MR2', '740i', 'TF', 'S80', 'Fox',\n",
    "'Twingo', 'Lancer', 'Doblo', 'Eos', 'M3', 'PT', 'Matrix', 'IQ',\n",
    "'SLS', 'A2', 'Z3', 'C70', 'Roomster', 'Splash', 'Previa',\n",
    "'Starlet', 'Aveo', 'XC70', 'Tucson', 'Legacy', 'Cayenne', '156',\n",
    "'640i', 'Spark', 'Kalos', 'Outlander', 'Pixo', 'FR-V', 'Sirion',\n",
    "'Mini', 'Venga', 'Streetka', 'Felicia', 'Terrano', 'Space',\n",
    "'Carisma', 'Lacetti', 'ZT', 'CLC', 'Defender', 'Arosa', 'HR-V',\n",
    "'City-coupe', 'Terios', 'Carina', 'Multipla', 'A8', 'Citigo',\n",
    "'Liana', 'Continental', 'Captiva', 'Pathfinder', '205', '900',\n",
    "'B-MAX', '940', 'Toledo', 'Ix20', '850', 'Verso-S', 'S3', '159',\n",
    "'Lanos', 'C8', '626', 'Sandero', '807', '5008', 'Cayman', '300C',\n",
    "'300', 'Duster', '1007', '508', 'Xantia', 'RCZ', '350Z', 'Demio',\n",
    "'S2000', '190', 'Trajet', 'Tacuma', 'GT', 'Premacy', 'ZX', 'V60',\n",
    "'Brava', 'S4', 'X6', 'Caliber', 'Maverick', 'Streetwise',\n",
    "'CityRover', 'Cerato', 'Elise', 'Cougar', 'Roadster-coupe',\n",
    "'Vantage', 'I40', 'Cruze', 'Exeo', 'Urban', 'Mii', 'A7', '405',\n",
    "'500C', 'Transporter', 'Spider', 'DS4', 'Picnic', 'Viano',\n",
    "'Ulysse', 'Sierra', 'DB9', '80', 'Neon', 'Terracan', 'M550i',\n",
    "'Magentis', 'AX', 'RS4', 'Captur', 'Grandis', 'Crossfire', 'CR-Z',\n",
    "'R', 'Stream', 'Idea', 'Prelude', 'Elantra', '607', 'Rexton', 'CC',\n",
    "'Roadster', '806', '9000', 'S5', 'Nemo', 'Sonata', 'Capri',\n",
    "'Sedici', 'Brera', '944', 'Cordoba', 'C-Crosser', 'Cabriolet',\n",
    "'Cinquecento', 'Galant', 'Qubo', 'Lantra', 'Baleno', '440', 'GS',\n",
    "'2008', 'S70', 'GT86', 'Caddy', '4007', 'GLK', 'Camry', 'Nitro',\n",
    "'Sebring', 'Shuma', 'Veloster', 'Patrol', 'Expert', 'R8', 'Wind',\n",
    "'Rapid', 'DB7', 'Corrado', 'Supra', 'Marea', 'Serena', 'Vaneo',\n",
    "'Panamera', 'Copen', 'Logo', 'Paceman', '960', 'Tribute', 'M135i',\n",
    "'Shuttle', 'Trafic', 'Journey', 'Phaeton', 'Justy', 'Orlando',\n",
    "'Vito', 'Granada', 'Bipper', '370Z', 'RS6', 'John', 'Hilux',\n",
    "'Legend', 'MX-3', 'GranCabrio', 'Scorpio', 'Rodius', 'Mustang',\n",
    "'121', 'Coupe', 'Integra', 'Carrera', 'Croma', 'Zafira', 'GT-R',\n",
    "'DS5', 'Korando', '309', '100', 'Quattro', 'Probe', 'Focus',\n",
    "'Fiesta', 'Golf', 'Discovery', 'XKR', 'Pride', '19', 'Concerto',\n",
    "'Leganza', 'Bluebird', 'MPV', 'Xedos', 'Pajero', 'Orion', 'Vento',\n",
    "'Nexia', 'Mentor', '460', '166', 'Maxima', 'Paseo', 'F430', '850i',\n",
    "'Uno', 'Favorit', '146', 'MX-6', '145', 'Safrane', 'Move', '928',\n",
    "'Musso', 'Cooper', 'Tipo', 'Espero', 'XM', 'CRX', 'Tuscan', 'Vel',\n",
    "'21', 'Prairie', 'SJ', 'Esprit', 'Samurai', '360', 'Tempra', '155',\n",
    "'Barchetta', '90', 'TR7', 'Pony', '605', '25', '164', '11', '505',\n",
    "'Marbella', 'Acclaim', 'X-90', 'Samara', '305', 'Griffith', '9',\n",
    "'33', 'Manta', 'Applause', '4', '3.6', 'Delta', 'Silvia', 'Sunny',\n",
    "'126', 'Tercel', 'Niva', 'Stellar', '99', '120', 'Kadett', '18',\n",
    "'Dedra', 'Cherry', 'Marina', 'Laurel', 'Regata', '130', 'Thema',\n",
    "'Stanza', 'Ital', 'Strada', 'Santana', 'Double', '105', 'Malaga',\n",
    "'Ascona', 'Monza', 'Fuego', 'Derby', '104', 'Transit', 'Prisma',\n",
    "'Senator', '127', '200', 'Rekord', '929', 'Cressida', 'Quintet',\n",
    "'14', '20', '1200', '504'])]\n",
    "\n",
    "df = df.loc[df.Manufacturer.isin(['Renault', 'BMW', 'Volkswagen', 'Peugeot', 'Ford', 'Nissan',\n",
    "'Honda', 'Toyota', 'Mercedes', 'Audi', 'Citroen', 'Skoda',\n",
    "'Land-Rover', 'Seat', 'Fiat', 'Mini', 'Saab', 'Hyundai', 'Kia',\n",
    "'Jaguar', 'Mazda', 'Suzuki', 'Volvo', 'Rover', 'Mitsubishi',\n",
    "'Smart', 'Porsche', 'Subaru', 'MG', 'Chrysler', 'Chevrolet',\n",
    "'Alfa-Romeo', 'Daihatsu', 'Bentley', 'Daewoo', 'Dacia', 'Dodge',\n",
    "'Lotus', 'Aston-Martin', 'Abarth', 'Ssangyong', 'Lexus',\n",
    "'Maserati', 'Opel', 'Ferrari', 'TVR', 'Triumph', 'Lada', 'Daimler',\n",
    "'Lancia', 'Datsun', 'Morris'])]"
   ]
  },
  {
   "cell_type": "markdown",
   "metadata": {},
   "source": [
    "### Step 3"
   ]
  },
  {
   "cell_type": "code",
   "execution_count": 41,
   "metadata": {},
   "outputs": [],
   "source": [
    "#The price of a car should be more than 0.0 and should not be larger than 650.0.\n",
    "df = df[(df['Price'] > 0.0) & (df['Price'] <= 650.0)]"
   ]
  },
  {
   "cell_type": "code",
   "execution_count": 42,
   "metadata": {},
   "outputs": [],
   "source": [
    "#The transmission of a car should be more than 0.0 and should not be larger than 10.\n",
    "df = df[(df['Transmission'] > 0.0) & (df['Transmission'] <= 10)]"
   ]
  },
  {
   "cell_type": "code",
   "execution_count": 43,
   "metadata": {},
   "outputs": [],
   "source": [
    "#Power (BHP) of the car, the power of a car should be more than 0.0 and should not be larger than 500.\n",
    "df = df[(df['Power'] > 0.0) & (df['Power'] <= 500)]"
   ]
  },
  {
   "cell_type": "code",
   "execution_count": 44,
   "metadata": {},
   "outputs": [],
   "source": [
    "#Engine size in CC, the engine CC of a car should be more than 0.0 and should not be larger than 6,500.\n",
    "df = df[(df['Engine_CC'] > 0.0) & (df['Engine_CC'] <= 6500)]"
   ]
  },
  {
   "cell_type": "markdown",
   "metadata": {},
   "source": [
    "### Step 4"
   ]
  },
  {
   "cell_type": "code",
   "execution_count": 45,
   "metadata": {},
   "outputs": [
    {
     "data": {
      "text/html": [
       "<div>\n",
       "<style scoped>\n",
       "    .dataframe tbody tr th:only-of-type {\n",
       "        vertical-align: middle;\n",
       "    }\n",
       "\n",
       "    .dataframe tbody tr th {\n",
       "        vertical-align: top;\n",
       "    }\n",
       "\n",
       "    .dataframe thead th {\n",
       "        text-align: right;\n",
       "    }\n",
       "</style>\n",
       "<table border=\"1\" class=\"dataframe\">\n",
       "  <thead>\n",
       "    <tr style=\"text-align: right;\">\n",
       "      <th></th>\n",
       "      <th>Manufacturer</th>\n",
       "      <th>Model</th>\n",
       "      <th>Price</th>\n",
       "      <th>Transmission</th>\n",
       "      <th>Power</th>\n",
       "      <th>Engine_CC</th>\n",
       "      <th>Fuel</th>\n",
       "      <th>Male</th>\n",
       "      <th>Female</th>\n",
       "      <th>Gender_Unclassified</th>\n",
       "      <th>Total</th>\n",
       "    </tr>\n",
       "  </thead>\n",
       "  <tbody>\n",
       "    <tr>\n",
       "      <th>3</th>\n",
       "      <td>Renault</td>\n",
       "      <td>Clio</td>\n",
       "      <td>22.100000</td>\n",
       "      <td>5.615385</td>\n",
       "      <td>75.576923</td>\n",
       "      <td>1219.653846</td>\n",
       "      <td>petrol</td>\n",
       "      <td>241287</td>\n",
       "      <td>312556</td>\n",
       "      <td>28,004</td>\n",
       "      <td>581847</td>\n",
       "    </tr>\n",
       "    <tr>\n",
       "      <th>4</th>\n",
       "      <td>BMW</td>\n",
       "      <td>320i</td>\n",
       "      <td>47.848370</td>\n",
       "      <td>6.444444</td>\n",
       "      <td>126.111111</td>\n",
       "      <td>1995.777778</td>\n",
       "      <td>petrol</td>\n",
       "      <td>408016</td>\n",
       "      <td>115843</td>\n",
       "      <td>29,125</td>\n",
       "      <td>552984</td>\n",
       "    </tr>\n",
       "    <tr>\n",
       "      <th>5</th>\n",
       "      <td>Volkswagen</td>\n",
       "      <td>Polo</td>\n",
       "      <td>18.192500</td>\n",
       "      <td>5.074074</td>\n",
       "      <td>60.962963</td>\n",
       "      <td>1408.055556</td>\n",
       "      <td>petrol</td>\n",
       "      <td>216333</td>\n",
       "      <td>299110</td>\n",
       "      <td>31,701</td>\n",
       "      <td>547144</td>\n",
       "    </tr>\n",
       "    <tr>\n",
       "      <th>6</th>\n",
       "      <td>Peugeot</td>\n",
       "      <td>206</td>\n",
       "      <td>20.033750</td>\n",
       "      <td>4.833333</td>\n",
       "      <td>71.333333</td>\n",
       "      <td>1631.500000</td>\n",
       "      <td>petrol</td>\n",
       "      <td>178698</td>\n",
       "      <td>250614</td>\n",
       "      <td>26,135</td>\n",
       "      <td>455447</td>\n",
       "    </tr>\n",
       "    <tr>\n",
       "      <th>7</th>\n",
       "      <td>Ford</td>\n",
       "      <td>Mondeo</td>\n",
       "      <td>39.973750</td>\n",
       "      <td>1.750000</td>\n",
       "      <td>130.250000</td>\n",
       "      <td>1998.500000</td>\n",
       "      <td>petrol</td>\n",
       "      <td>357452</td>\n",
       "      <td>69,603</td>\n",
       "      <td>16,550</td>\n",
       "      <td>443605</td>\n",
       "    </tr>\n",
       "    <tr>\n",
       "      <th>...</th>\n",
       "      <td>...</td>\n",
       "      <td>...</td>\n",
       "      <td>...</td>\n",
       "      <td>...</td>\n",
       "      <td>...</td>\n",
       "      <td>...</td>\n",
       "      <td>...</td>\n",
       "      <td>...</td>\n",
       "      <td>...</td>\n",
       "      <td>...</td>\n",
       "      <td>...</td>\n",
       "    </tr>\n",
       "    <tr>\n",
       "      <th>6097</th>\n",
       "      <td>Land-Rover</td>\n",
       "      <td>Defender</td>\n",
       "      <td>108.747195</td>\n",
       "      <td>7.853659</td>\n",
       "      <td>207.609756</td>\n",
       "      <td>2304.975610</td>\n",
       "      <td>diesel</td>\n",
       "      <td>1,012</td>\n",
       "      <td>150</td>\n",
       "      <td>80</td>\n",
       "      <td>1,242</td>\n",
       "    </tr>\n",
       "    <tr>\n",
       "      <th>6098</th>\n",
       "      <td>Toyota</td>\n",
       "      <td>RAV4</td>\n",
       "      <td>43.548516</td>\n",
       "      <td>1.354839</td>\n",
       "      <td>137.774193</td>\n",
       "      <td>2261.193548</td>\n",
       "      <td>petrol</td>\n",
       "      <td>670</td>\n",
       "      <td>482</td>\n",
       "      <td>66</td>\n",
       "      <td>1,218</td>\n",
       "    </tr>\n",
       "    <tr>\n",
       "      <th>6099</th>\n",
       "      <td>Alfa-Romeo</td>\n",
       "      <td>Spider</td>\n",
       "      <td>55.200000</td>\n",
       "      <td>6.000000</td>\n",
       "      <td>163.500000</td>\n",
       "      <td>2696.500000</td>\n",
       "      <td>petrol</td>\n",
       "      <td>790</td>\n",
       "      <td>247</td>\n",
       "      <td>81</td>\n",
       "      <td>1,118</td>\n",
       "    </tr>\n",
       "    <tr>\n",
       "      <th>6100</th>\n",
       "      <td>Honda</td>\n",
       "      <td>Shuttle</td>\n",
       "      <td>30.081000</td>\n",
       "      <td>4.000000</td>\n",
       "      <td>110.000000</td>\n",
       "      <td>2254.000000</td>\n",
       "      <td>petrol</td>\n",
       "      <td>639</td>\n",
       "      <td>416</td>\n",
       "      <td>49</td>\n",
       "      <td>1,104</td>\n",
       "    </tr>\n",
       "    <tr>\n",
       "      <th>6101</th>\n",
       "      <td>Mitsubishi</td>\n",
       "      <td>Space</td>\n",
       "      <td>23.165158</td>\n",
       "      <td>3.947368</td>\n",
       "      <td>82.157895</td>\n",
       "      <td>1817.315789</td>\n",
       "      <td>petrol</td>\n",
       "      <td>721</td>\n",
       "      <td>251</td>\n",
       "      <td>40</td>\n",
       "      <td>1,012</td>\n",
       "    </tr>\n",
       "  </tbody>\n",
       "</table>\n",
       "<p>5949 rows × 11 columns</p>\n",
       "</div>"
      ],
      "text/plain": [
       "     Manufacturer     Model       Price  Transmission       Power  \\\n",
       "3         Renault      Clio   22.100000      5.615385   75.576923   \n",
       "4             BMW      320i   47.848370      6.444444  126.111111   \n",
       "5      Volkswagen      Polo   18.192500      5.074074   60.962963   \n",
       "6         Peugeot       206   20.033750      4.833333   71.333333   \n",
       "7            Ford    Mondeo   39.973750      1.750000  130.250000   \n",
       "...           ...       ...         ...           ...         ...   \n",
       "6097   Land-Rover  Defender  108.747195      7.853659  207.609756   \n",
       "6098       Toyota      RAV4   43.548516      1.354839  137.774193   \n",
       "6099   Alfa-Romeo    Spider   55.200000      6.000000  163.500000   \n",
       "6100        Honda   Shuttle   30.081000      4.000000  110.000000   \n",
       "6101   Mitsubishi     Space   23.165158      3.947368   82.157895   \n",
       "\n",
       "        Engine_CC    Fuel    Male  Female Gender_Unclassified   Total  \n",
       "3     1219.653846  petrol  241287  312556              28,004  581847  \n",
       "4     1995.777778  petrol  408016  115843              29,125  552984  \n",
       "5     1408.055556  petrol  216333  299110              31,701  547144  \n",
       "6     1631.500000  petrol  178698  250614              26,135  455447  \n",
       "7     1998.500000  petrol  357452  69,603              16,550  443605  \n",
       "...           ...     ...     ...     ...                 ...     ...  \n",
       "6097  2304.975610  diesel   1,012     150                  80   1,242  \n",
       "6098  2261.193548  petrol     670     482                  66   1,218  \n",
       "6099  2696.500000  petrol     790     247                  81   1,118  \n",
       "6100  2254.000000  petrol     639     416                  49   1,104  \n",
       "6101  1817.315789  petrol     721     251                  40   1,012  \n",
       "\n",
       "[5949 rows x 11 columns]"
      ]
     },
     "execution_count": 45,
     "metadata": {},
     "output_type": "execute_result"
    }
   ],
   "source": [
    "df.duplicated\n",
    "df.drop_duplicates()"
   ]
  },
  {
   "cell_type": "code",
   "execution_count": 46,
   "metadata": {},
   "outputs": [
    {
     "data": {
      "text/plain": [
       "<bound method DataFrame.sum of       Manufacturer  Model  Price  Transmission  Power  Engine_CC   Fuel  \\\n",
       "3            False  False  False         False  False      False  False   \n",
       "4            False  False  False         False  False      False  False   \n",
       "5            False  False  False         False  False      False  False   \n",
       "6            False  False  False         False  False      False  False   \n",
       "7            False  False  False         False  False      False  False   \n",
       "...            ...    ...    ...           ...    ...        ...    ...   \n",
       "6097         False  False  False         False  False      False  False   \n",
       "6098         False  False  False         False  False      False  False   \n",
       "6099         False  False  False         False  False      False  False   \n",
       "6100         False  False  False         False  False      False  False   \n",
       "6101         False  False  False         False  False      False  False   \n",
       "\n",
       "       Male  Female  Gender_Unclassified  Total  \n",
       "3     False   False                False  False  \n",
       "4     False   False                False  False  \n",
       "5     False   False                False  False  \n",
       "6     False   False                False  False  \n",
       "7     False   False                False  False  \n",
       "...     ...     ...                  ...    ...  \n",
       "6097  False   False                False  False  \n",
       "6098  False   False                False  False  \n",
       "6099  False   False                False  False  \n",
       "6100  False   False                False  False  \n",
       "6101  False   False                False  False  \n",
       "\n",
       "[5949 rows x 11 columns]>"
      ]
     },
     "execution_count": 46,
     "metadata": {},
     "output_type": "execute_result"
    }
   ],
   "source": [
    "df.isna().sum"
   ]
  },
  {
   "cell_type": "markdown",
   "metadata": {},
   "source": [
    "### Error 1"
   ]
  },
  {
   "cell_type": "code",
   "execution_count": 47,
   "metadata": {},
   "outputs": [
    {
     "data": {
      "text/plain": [
       "array(['petrol', 'diesel', 'peatrol', 'automatic', 'diasel'], dtype=object)"
      ]
     },
     "execution_count": 47,
     "metadata": {},
     "output_type": "execute_result"
    }
   ],
   "source": [
    "# checking if the fuel is petrol, diesel, automatic\n",
    "df.Fuel.unique()"
   ]
  },
  {
   "cell_type": "code",
   "execution_count": 48,
   "metadata": {},
   "outputs": [],
   "source": [
    "# correcting spelling errors \n",
    "df.loc[df.Fuel == 'peatrol',\"Fuel\"]='petrol'\n",
    "df.loc[df.Fuel == 'diasel',\"Fuel\"]='diesel'"
   ]
  },
  {
   "cell_type": "code",
   "execution_count": 49,
   "metadata": {},
   "outputs": [
    {
     "data": {
      "text/plain": [
       "array(['petrol', 'diesel', 'automatic'], dtype=object)"
      ]
     },
     "execution_count": 49,
     "metadata": {},
     "output_type": "execute_result"
    }
   ],
   "source": [
    "#Re-checking if the fuel is petrol, diesel, automatic \n",
    "df.Fuel.unique()"
   ]
  },
  {
   "cell_type": "markdown",
   "metadata": {},
   "source": [
    "### Error  2"
   ]
  },
  {
   "cell_type": "code",
   "execution_count": 50,
   "metadata": {},
   "outputs": [
    {
     "data": {
      "text/plain": [
       "Manufacturer            object\n",
       "Model                   object\n",
       "Price                  float64\n",
       "Transmission           float64\n",
       "Power                  float64\n",
       "Engine_CC              float64\n",
       "Fuel                    object\n",
       "Male                    object\n",
       "Female                  object\n",
       "Gender_Unclassified     object\n",
       "Total                   object\n",
       "dtype: object"
      ]
     },
     "execution_count": 50,
     "metadata": {},
     "output_type": "execute_result"
    }
   ],
   "source": [
    "df.dtypes"
   ]
  },
  {
   "cell_type": "code",
   "execution_count": 51,
   "metadata": {},
   "outputs": [],
   "source": [
    "#changing datatype of the number of Male, Female, Gender Unclassified, Total owners to integer. \n",
    "df.Male = df.Male.str.replace(\",\",\"\").astype(int)\n",
    "df.Female = df.Female.str.replace(\",\",\"\").astype(int)\n",
    "df.Gender_Unclassified = df.Gender_Unclassified.str.replace(\",\",\"\").astype(int)\n",
    "df.Total = df.Total.str.replace(\",\",\"\").astype(int)"
   ]
  },
  {
   "cell_type": "markdown",
   "metadata": {},
   "source": [
    "### Error 3"
   ]
  },
  {
   "cell_type": "code",
   "execution_count": 52,
   "metadata": {},
   "outputs": [],
   "source": [
    "#To ensure the totalnumber of owners is equal to the sum of Male, Female and Gender_Unclassified\n",
    "df['Total']=df['Male']+df['Female']+df['Gender_Unclassified']"
   ]
  },
  {
   "cell_type": "markdown",
   "metadata": {},
   "source": [
    "### Error 4"
   ]
  },
  {
   "cell_type": "code",
   "execution_count": 53,
   "metadata": {
    "scrolled": true
   },
   "outputs": [
    {
     "data": {
      "text/html": [
       "<div>\n",
       "<style scoped>\n",
       "    .dataframe tbody tr th:only-of-type {\n",
       "        vertical-align: middle;\n",
       "    }\n",
       "\n",
       "    .dataframe tbody tr th {\n",
       "        vertical-align: top;\n",
       "    }\n",
       "\n",
       "    .dataframe thead th {\n",
       "        text-align: right;\n",
       "    }\n",
       "</style>\n",
       "<table border=\"1\" class=\"dataframe\">\n",
       "  <thead>\n",
       "    <tr style=\"text-align: right;\">\n",
       "      <th></th>\n",
       "      <th>Manufacturer</th>\n",
       "      <th>Model</th>\n",
       "      <th>Price</th>\n",
       "      <th>Transmission</th>\n",
       "      <th>Power</th>\n",
       "      <th>Engine_CC</th>\n",
       "      <th>Fuel</th>\n",
       "      <th>Male</th>\n",
       "      <th>Female</th>\n",
       "      <th>Gender_Unclassified</th>\n",
       "      <th>Total</th>\n",
       "    </tr>\n",
       "  </thead>\n",
       "  <tbody>\n",
       "    <tr>\n",
       "      <th>105</th>\n",
       "      <td>Mitsubishi</td>\n",
       "      <td>Colt</td>\n",
       "      <td>17.038767</td>\n",
       "      <td>5.302326</td>\n",
       "      <td>73.488372</td>\n",
       "      <td>1374.046512</td>\n",
       "      <td>petrol</td>\n",
       "      <td>20915</td>\n",
       "      <td>25109</td>\n",
       "      <td>2781</td>\n",
       "      <td>48805</td>\n",
       "    </tr>\n",
       "    <tr>\n",
       "      <th>180</th>\n",
       "      <td>Mitsubishi</td>\n",
       "      <td>Lancer</td>\n",
       "      <td>23.016615</td>\n",
       "      <td>4.730769</td>\n",
       "      <td>90.884615</td>\n",
       "      <td>1709.538462</td>\n",
       "      <td>petrol</td>\n",
       "      <td>12773</td>\n",
       "      <td>3703</td>\n",
       "      <td>607</td>\n",
       "      <td>17083</td>\n",
       "    </tr>\n",
       "    <tr>\n",
       "      <th>204</th>\n",
       "      <td>Mitsubishi</td>\n",
       "      <td>Outlander</td>\n",
       "      <td>37.446667</td>\n",
       "      <td>2.611111</td>\n",
       "      <td>120.333333</td>\n",
       "      <td>2085.055556</td>\n",
       "      <td>petrol</td>\n",
       "      <td>8910</td>\n",
       "      <td>3970</td>\n",
       "      <td>620</td>\n",
       "      <td>13500</td>\n",
       "    </tr>\n",
       "    <tr>\n",
       "      <th>213</th>\n",
       "      <td>Mitsubishi</td>\n",
       "      <td>Space</td>\n",
       "      <td>23.165158</td>\n",
       "      <td>3.947368</td>\n",
       "      <td>82.157895</td>\n",
       "      <td>1817.315789</td>\n",
       "      <td>petrol</td>\n",
       "      <td>7314</td>\n",
       "      <td>4690</td>\n",
       "      <td>716</td>\n",
       "      <td>12720</td>\n",
       "    </tr>\n",
       "    <tr>\n",
       "      <th>214</th>\n",
       "      <td>Mitsubishi</td>\n",
       "      <td>Carisma</td>\n",
       "      <td>22.690000</td>\n",
       "      <td>4.800000</td>\n",
       "      <td>82.200000</td>\n",
       "      <td>1773.700000</td>\n",
       "      <td>petrol</td>\n",
       "      <td>9003</td>\n",
       "      <td>3084</td>\n",
       "      <td>630</td>\n",
       "      <td>12717</td>\n",
       "    </tr>\n",
       "    <tr>\n",
       "      <th>...</th>\n",
       "      <td>...</td>\n",
       "      <td>...</td>\n",
       "      <td>...</td>\n",
       "      <td>...</td>\n",
       "      <td>...</td>\n",
       "      <td>...</td>\n",
       "      <td>...</td>\n",
       "      <td>...</td>\n",
       "      <td>...</td>\n",
       "      <td>...</td>\n",
       "      <td>...</td>\n",
       "    </tr>\n",
       "    <tr>\n",
       "      <th>5989</th>\n",
       "      <td>Mitsubishi</td>\n",
       "      <td>Colt</td>\n",
       "      <td>17.038767</td>\n",
       "      <td>5.302326</td>\n",
       "      <td>73.488372</td>\n",
       "      <td>1374.046512</td>\n",
       "      <td>petrol</td>\n",
       "      <td>10362</td>\n",
       "      <td>8619</td>\n",
       "      <td>707</td>\n",
       "      <td>19688</td>\n",
       "    </tr>\n",
       "    <tr>\n",
       "      <th>5998</th>\n",
       "      <td>Mitsubishi</td>\n",
       "      <td>Galant</td>\n",
       "      <td>25.082667</td>\n",
       "      <td>4.533333</td>\n",
       "      <td>93.600000</td>\n",
       "      <td>2127.333333</td>\n",
       "      <td>petrol</td>\n",
       "      <td>14098</td>\n",
       "      <td>2477</td>\n",
       "      <td>488</td>\n",
       "      <td>17063</td>\n",
       "    </tr>\n",
       "    <tr>\n",
       "      <th>6016</th>\n",
       "      <td>Mitsubishi</td>\n",
       "      <td>Space</td>\n",
       "      <td>23.165158</td>\n",
       "      <td>3.947368</td>\n",
       "      <td>82.157895</td>\n",
       "      <td>1817.315789</td>\n",
       "      <td>petrol</td>\n",
       "      <td>6860</td>\n",
       "      <td>2921</td>\n",
       "      <td>732</td>\n",
       "      <td>10513</td>\n",
       "    </tr>\n",
       "    <tr>\n",
       "      <th>6017</th>\n",
       "      <td>Mitsubishi</td>\n",
       "      <td>Lancer</td>\n",
       "      <td>23.016615</td>\n",
       "      <td>4.730769</td>\n",
       "      <td>90.884615</td>\n",
       "      <td>1709.538462</td>\n",
       "      <td>petrol</td>\n",
       "      <td>7048</td>\n",
       "      <td>2641</td>\n",
       "      <td>303</td>\n",
       "      <td>9992</td>\n",
       "    </tr>\n",
       "    <tr>\n",
       "      <th>6101</th>\n",
       "      <td>Mitsubishi</td>\n",
       "      <td>Space</td>\n",
       "      <td>23.165158</td>\n",
       "      <td>3.947368</td>\n",
       "      <td>82.157895</td>\n",
       "      <td>1817.315789</td>\n",
       "      <td>petrol</td>\n",
       "      <td>721</td>\n",
       "      <td>251</td>\n",
       "      <td>40</td>\n",
       "      <td>1012</td>\n",
       "    </tr>\n",
       "  </tbody>\n",
       "</table>\n",
       "<p>154 rows × 11 columns</p>\n",
       "</div>"
      ],
      "text/plain": [
       "     Manufacturer      Model      Price  Transmission       Power  \\\n",
       "105    Mitsubishi       Colt  17.038767      5.302326   73.488372   \n",
       "180    Mitsubishi     Lancer  23.016615      4.730769   90.884615   \n",
       "204    Mitsubishi  Outlander  37.446667      2.611111  120.333333   \n",
       "213    Mitsubishi      Space  23.165158      3.947368   82.157895   \n",
       "214    Mitsubishi    Carisma  22.690000      4.800000   82.200000   \n",
       "...           ...        ...        ...           ...         ...   \n",
       "5989   Mitsubishi       Colt  17.038767      5.302326   73.488372   \n",
       "5998   Mitsubishi     Galant  25.082667      4.533333   93.600000   \n",
       "6016   Mitsubishi      Space  23.165158      3.947368   82.157895   \n",
       "6017   Mitsubishi     Lancer  23.016615      4.730769   90.884615   \n",
       "6101   Mitsubishi      Space  23.165158      3.947368   82.157895   \n",
       "\n",
       "        Engine_CC    Fuel   Male  Female  Gender_Unclassified  Total  \n",
       "105   1374.046512  petrol  20915   25109                 2781  48805  \n",
       "180   1709.538462  petrol  12773    3703                  607  17083  \n",
       "204   2085.055556  petrol   8910    3970                  620  13500  \n",
       "213   1817.315789  petrol   7314    4690                  716  12720  \n",
       "214   1773.700000  petrol   9003    3084                  630  12717  \n",
       "...           ...     ...    ...     ...                  ...    ...  \n",
       "5989  1374.046512  petrol  10362    8619                  707  19688  \n",
       "5998  2127.333333  petrol  14098    2477                  488  17063  \n",
       "6016  1817.315789  petrol   6860    2921                  732  10513  \n",
       "6017  1709.538462  petrol   7048    2641                  303   9992  \n",
       "6101  1817.315789  petrol    721     251                   40   1012  \n",
       "\n",
       "[154 rows x 11 columns]"
      ]
     },
     "execution_count": 53,
     "metadata": {},
     "output_type": "execute_result"
    }
   ],
   "source": [
    "#It can be seen that the Manufacturer, Model, Price, Transmission, Power, Engine_CC, Fuel is the same but the number of owners for Male,Female and Gender Unclassified varies. \n",
    "df.loc[df.Manufacturer=='Mitsubishi']"
   ]
  },
  {
   "cell_type": "code",
   "execution_count": 54,
   "metadata": {
    "scrolled": true
   },
   "outputs": [],
   "source": [
    "#Grouping all similar rows for the specified columns and adding the Male,Female, Gender_Unclassified and total owners\n",
    "\n",
    "df = df.groupby(['Manufacturer','Model','Price','Transmission','Power','Engine_CC','Fuel']).sum()\n",
    "df.reset_index(inplace=True)"
   ]
  },
  {
   "cell_type": "code",
   "execution_count": 55,
   "metadata": {},
   "outputs": [],
   "source": [
    "df.to_csv('cleaned car buyers.csv') #CHECKPOINT "
   ]
  },
  {
   "cell_type": "markdown",
   "metadata": {},
   "source": [
    "# Task 2.1"
   ]
  },
  {
   "cell_type": "code",
   "execution_count": 56,
   "metadata": {
    "scrolled": true
   },
   "outputs": [
    {
     "data": {
      "text/html": [
       "<div>\n",
       "<style scoped>\n",
       "    .dataframe tbody tr th:only-of-type {\n",
       "        vertical-align: middle;\n",
       "    }\n",
       "\n",
       "    .dataframe tbody tr th {\n",
       "        vertical-align: top;\n",
       "    }\n",
       "\n",
       "    .dataframe thead th {\n",
       "        text-align: right;\n",
       "    }\n",
       "</style>\n",
       "<table border=\"1\" class=\"dataframe\">\n",
       "  <thead>\n",
       "    <tr style=\"text-align: right;\">\n",
       "      <th></th>\n",
       "      <th>Manufacturer</th>\n",
       "      <th>Model</th>\n",
       "      <th>Price</th>\n",
       "      <th>Transmission</th>\n",
       "      <th>Power</th>\n",
       "      <th>Engine_CC</th>\n",
       "      <th>Fuel</th>\n",
       "      <th>Male</th>\n",
       "      <th>Female</th>\n",
       "      <th>Gender_Unclassified</th>\n",
       "      <th>Total</th>\n",
       "    </tr>\n",
       "  </thead>\n",
       "  <tbody>\n",
       "    <tr>\n",
       "      <th>139</th>\n",
       "      <td>Ford</td>\n",
       "      <td>Fiesta</td>\n",
       "      <td>18.532143</td>\n",
       "      <td>5.714286</td>\n",
       "      <td>68.571429</td>\n",
       "      <td>1166.142857</td>\n",
       "      <td>petrol</td>\n",
       "      <td>11596040</td>\n",
       "      <td>12760305</td>\n",
       "      <td>876752</td>\n",
       "      <td>25233097</td>\n",
       "    </tr>\n",
       "    <tr>\n",
       "      <th>138</th>\n",
       "      <td>Ford</td>\n",
       "      <td>Escort</td>\n",
       "      <td>16.208744</td>\n",
       "      <td>4.461538</td>\n",
       "      <td>63.564103</td>\n",
       "      <td>1650.205128</td>\n",
       "      <td>petrol</td>\n",
       "      <td>10937297</td>\n",
       "      <td>5357916</td>\n",
       "      <td>486565</td>\n",
       "      <td>16781778</td>\n",
       "    </tr>\n",
       "    <tr>\n",
       "      <th>454</th>\n",
       "      <td>Volkswagen</td>\n",
       "      <td>Golf</td>\n",
       "      <td>31.242154</td>\n",
       "      <td>6.164835</td>\n",
       "      <td>89.461538</td>\n",
       "      <td>1537.406593</td>\n",
       "      <td>petrol</td>\n",
       "      <td>6856310</td>\n",
       "      <td>4420689</td>\n",
       "      <td>655247</td>\n",
       "      <td>11932246</td>\n",
       "    </tr>\n",
       "    <tr>\n",
       "      <th>146</th>\n",
       "      <td>Ford</td>\n",
       "      <td>Mondeo</td>\n",
       "      <td>39.973750</td>\n",
       "      <td>1.750000</td>\n",
       "      <td>130.250000</td>\n",
       "      <td>1998.500000</td>\n",
       "      <td>petrol</td>\n",
       "      <td>8254266</td>\n",
       "      <td>1818587</td>\n",
       "      <td>340635</td>\n",
       "      <td>10413488</td>\n",
       "    </tr>\n",
       "    <tr>\n",
       "      <th>140</th>\n",
       "      <td>Ford</td>\n",
       "      <td>Focus</td>\n",
       "      <td>30.619322</td>\n",
       "      <td>5.966102</td>\n",
       "      <td>94.033898</td>\n",
       "      <td>1497.169492</td>\n",
       "      <td>petrol</td>\n",
       "      <td>6407597</td>\n",
       "      <td>3355129</td>\n",
       "      <td>408615</td>\n",
       "      <td>10171341</td>\n",
       "    </tr>\n",
       "    <tr>\n",
       "      <th>350</th>\n",
       "      <td>Renault</td>\n",
       "      <td>Clio</td>\n",
       "      <td>22.100000</td>\n",
       "      <td>5.615385</td>\n",
       "      <td>75.576923</td>\n",
       "      <td>1219.653846</td>\n",
       "      <td>petrol</td>\n",
       "      <td>3929068</td>\n",
       "      <td>5633947</td>\n",
       "      <td>445121</td>\n",
       "      <td>10008136</td>\n",
       "    </tr>\n",
       "    <tr>\n",
       "      <th>282</th>\n",
       "      <td>Nissan</td>\n",
       "      <td>Micra</td>\n",
       "      <td>20.377609</td>\n",
       "      <td>4.869565</td>\n",
       "      <td>67.956522</td>\n",
       "      <td>1279.695652</td>\n",
       "      <td>petrol</td>\n",
       "      <td>3640369</td>\n",
       "      <td>5751513</td>\n",
       "      <td>481611</td>\n",
       "      <td>9873493</td>\n",
       "    </tr>\n",
       "    <tr>\n",
       "      <th>459</th>\n",
       "      <td>Volkswagen</td>\n",
       "      <td>Polo</td>\n",
       "      <td>18.192500</td>\n",
       "      <td>5.074074</td>\n",
       "      <td>60.962963</td>\n",
       "      <td>1408.055556</td>\n",
       "      <td>petrol</td>\n",
       "      <td>3656888</td>\n",
       "      <td>4881887</td>\n",
       "      <td>499911</td>\n",
       "      <td>9038686</td>\n",
       "    </tr>\n",
       "    <tr>\n",
       "      <th>41</th>\n",
       "      <td>BMW</td>\n",
       "      <td>320i</td>\n",
       "      <td>47.848370</td>\n",
       "      <td>6.444444</td>\n",
       "      <td>126.111111</td>\n",
       "      <td>1995.777778</td>\n",
       "      <td>petrol</td>\n",
       "      <td>6213366</td>\n",
       "      <td>2090926</td>\n",
       "      <td>429229</td>\n",
       "      <td>8733521</td>\n",
       "    </tr>\n",
       "    <tr>\n",
       "      <th>363</th>\n",
       "      <td>Rover</td>\n",
       "      <td>2000</td>\n",
       "      <td>17.182000</td>\n",
       "      <td>5.000000</td>\n",
       "      <td>74.000000</td>\n",
       "      <td>1994.000000</td>\n",
       "      <td>petrol</td>\n",
       "      <td>5070237</td>\n",
       "      <td>2262426</td>\n",
       "      <td>256445</td>\n",
       "      <td>7589108</td>\n",
       "    </tr>\n",
       "  </tbody>\n",
       "</table>\n",
       "</div>"
      ],
      "text/plain": [
       "    Manufacturer   Model      Price  Transmission       Power    Engine_CC  \\\n",
       "139         Ford  Fiesta  18.532143      5.714286   68.571429  1166.142857   \n",
       "138         Ford  Escort  16.208744      4.461538   63.564103  1650.205128   \n",
       "454   Volkswagen    Golf  31.242154      6.164835   89.461538  1537.406593   \n",
       "146         Ford  Mondeo  39.973750      1.750000  130.250000  1998.500000   \n",
       "140         Ford   Focus  30.619322      5.966102   94.033898  1497.169492   \n",
       "350      Renault    Clio  22.100000      5.615385   75.576923  1219.653846   \n",
       "282       Nissan   Micra  20.377609      4.869565   67.956522  1279.695652   \n",
       "459   Volkswagen    Polo  18.192500      5.074074   60.962963  1408.055556   \n",
       "41           BMW    320i  47.848370      6.444444  126.111111  1995.777778   \n",
       "363        Rover    2000  17.182000      5.000000   74.000000  1994.000000   \n",
       "\n",
       "       Fuel      Male    Female  Gender_Unclassified     Total  \n",
       "139  petrol  11596040  12760305               876752  25233097  \n",
       "138  petrol  10937297   5357916               486565  16781778  \n",
       "454  petrol   6856310   4420689               655247  11932246  \n",
       "146  petrol   8254266   1818587               340635  10413488  \n",
       "140  petrol   6407597   3355129               408615  10171341  \n",
       "350  petrol   3929068   5633947               445121  10008136  \n",
       "282  petrol   3640369   5751513               481611   9873493  \n",
       "459  petrol   3656888   4881887               499911   9038686  \n",
       "41   petrol   6213366   2090926               429229   8733521  \n",
       "363  petrol   5070237   2262426               256445   7589108  "
      ]
     },
     "execution_count": 56,
     "metadata": {},
     "output_type": "execute_result"
    }
   ],
   "source": [
    "df_top10owners = df.sort_values(['Total'],ascending=False).head(10)\n",
    "df_top10owners"
   ]
  },
  {
   "cell_type": "code",
   "execution_count": 57,
   "metadata": {},
   "outputs": [
    {
     "data": {
      "image/png": "[encoded data removed]",
      "text/plain": [
       "<Figure size 432x288 with 1 Axes>"
      ]
     },
     "metadata": {
      "needs_background": "light"
     },
     "output_type": "display_data"
    }
   ],
   "source": [
    "#Plotting total number of male, female, unclassified gender owners against the top 10 models. \n",
    "df_top10owners.plot(kind='bar',x='Model',y=['Male','Female','Gender_Unclassified'])\n",
    "plt.ylabel('Vehicle Owner Count')\n",
    "plt.show()"
   ]
  },
  {
   "cell_type": "markdown",
   "metadata": {},
   "source": [
    "# Task 2.2"
   ]
  },
  {
   "cell_type": "markdown",
   "metadata": {},
   "source": [
    "### Task 2.2.1 - PRICE COLUMN"
   ]
  },
  {
   "cell_type": "code",
   "execution_count": 58,
   "metadata": {},
   "outputs": [
    {
     "data": {
      "text/html": [
       "<div>\n",
       "<style scoped>\n",
       "    .dataframe tbody tr th:only-of-type {\n",
       "        vertical-align: middle;\n",
       "    }\n",
       "\n",
       "    .dataframe tbody tr th {\n",
       "        vertical-align: top;\n",
       "    }\n",
       "\n",
       "    .dataframe thead th {\n",
       "        text-align: right;\n",
       "    }\n",
       "</style>\n",
       "<table border=\"1\" class=\"dataframe\">\n",
       "  <thead>\n",
       "    <tr style=\"text-align: right;\">\n",
       "      <th></th>\n",
       "      <th>Manufacturer</th>\n",
       "      <th>Model</th>\n",
       "      <th>Price</th>\n",
       "      <th>Transmission</th>\n",
       "      <th>Power</th>\n",
       "      <th>Engine_CC</th>\n",
       "      <th>Fuel</th>\n",
       "      <th>Male</th>\n",
       "      <th>Female</th>\n",
       "      <th>Gender_Unclassified</th>\n",
       "      <th>Total</th>\n",
       "    </tr>\n",
       "  </thead>\n",
       "  <tbody>\n",
       "    <tr>\n",
       "      <th>23</th>\n",
       "      <td>Ford</td>\n",
       "      <td>Focus</td>\n",
       "      <td>NaN</td>\n",
       "      <td>NaN</td>\n",
       "      <td>NaN</td>\n",
       "      <td>NaN</td>\n",
       "      <td>NaN</td>\n",
       "      <td>NaN</td>\n",
       "      <td>NaN</td>\n",
       "      <td>NaN</td>\n",
       "      <td>NaN</td>\n",
       "    </tr>\n",
       "    <tr>\n",
       "      <th>32</th>\n",
       "      <td>Seat</td>\n",
       "      <td>Ibiza</td>\n",
       "      <td>NaN</td>\n",
       "      <td>NaN</td>\n",
       "      <td>NaN</td>\n",
       "      <td>NaN</td>\n",
       "      <td>NaN</td>\n",
       "      <td>NaN</td>\n",
       "      <td>NaN</td>\n",
       "      <td>NaN</td>\n",
       "      <td>NaN</td>\n",
       "    </tr>\n",
       "    <tr>\n",
       "      <th>54</th>\n",
       "      <td>Toyota</td>\n",
       "      <td>Aygo</td>\n",
       "      <td>NaN</td>\n",
       "      <td>NaN</td>\n",
       "      <td>NaN</td>\n",
       "      <td>NaN</td>\n",
       "      <td>NaN</td>\n",
       "      <td>NaN</td>\n",
       "      <td>NaN</td>\n",
       "      <td>NaN</td>\n",
       "      <td>NaN</td>\n",
       "    </tr>\n",
       "    <tr>\n",
       "      <th>65</th>\n",
       "      <td>Ford</td>\n",
       "      <td>NaN</td>\n",
       "      <td>NaN</td>\n",
       "      <td>NaN</td>\n",
       "      <td>NaN</td>\n",
       "      <td>NaN</td>\n",
       "      <td>NaN</td>\n",
       "      <td>NaN</td>\n",
       "      <td>NaN</td>\n",
       "      <td>NaN</td>\n",
       "      <td>NaN</td>\n",
       "    </tr>\n",
       "    <tr>\n",
       "      <th>75</th>\n",
       "      <td>NaN</td>\n",
       "      <td>106</td>\n",
       "      <td>NaN</td>\n",
       "      <td>4.647059</td>\n",
       "      <td>NaN</td>\n",
       "      <td>1366.294118</td>\n",
       "      <td>NaN</td>\n",
       "      <td>41,148</td>\n",
       "      <td>NaN</td>\n",
       "      <td>NaN</td>\n",
       "      <td>NaN</td>\n",
       "    </tr>\n",
       "  </tbody>\n",
       "</table>\n",
       "</div>"
      ],
      "text/plain": [
       "   Manufacturer  Model  Price  Transmission  Power    Engine_CC Fuel    Male  \\\n",
       "23         Ford  Focus    NaN           NaN    NaN          NaN  NaN     NaN   \n",
       "32         Seat  Ibiza    NaN           NaN    NaN          NaN  NaN     NaN   \n",
       "54       Toyota   Aygo    NaN           NaN    NaN          NaN  NaN     NaN   \n",
       "65         Ford    NaN    NaN           NaN    NaN          NaN  NaN     NaN   \n",
       "75          NaN    106    NaN      4.647059    NaN  1366.294118  NaN  41,148   \n",
       "\n",
       "   Female Gender_Unclassified Total  \n",
       "23    NaN                 NaN   NaN  \n",
       "32    NaN                 NaN   NaN  \n",
       "54    NaN                 NaN   NaN  \n",
       "65    NaN                 NaN   NaN  \n",
       "75    NaN                 NaN   NaN  "
      ]
     },
     "execution_count": 58,
     "metadata": {},
     "output_type": "execute_result"
    }
   ],
   "source": [
    "# Showcasing NaNs in the Price Column \n",
    "Dataframe_beforecleaning[Dataframe_beforecleaning['Price'].isna()]"
   ]
  },
  {
   "cell_type": "code",
   "execution_count": 59,
   "metadata": {},
   "outputs": [
    {
     "data": {
      "text/html": [
       "<div>\n",
       "<style scoped>\n",
       "    .dataframe tbody tr th:only-of-type {\n",
       "        vertical-align: middle;\n",
       "    }\n",
       "\n",
       "    .dataframe tbody tr th {\n",
       "        vertical-align: top;\n",
       "    }\n",
       "\n",
       "    .dataframe thead th {\n",
       "        text-align: right;\n",
       "    }\n",
       "</style>\n",
       "<table border=\"1\" class=\"dataframe\">\n",
       "  <thead>\n",
       "    <tr style=\"text-align: right;\">\n",
       "      <th></th>\n",
       "      <th>Manufacturer</th>\n",
       "      <th>Model</th>\n",
       "      <th>Price</th>\n",
       "      <th>Transmission</th>\n",
       "      <th>Power</th>\n",
       "      <th>Engine_CC</th>\n",
       "      <th>Fuel</th>\n",
       "      <th>Male</th>\n",
       "      <th>Female</th>\n",
       "      <th>Gender_Unclassified</th>\n",
       "      <th>Total</th>\n",
       "    </tr>\n",
       "  </thead>\n",
       "  <tbody>\n",
       "  </tbody>\n",
       "</table>\n",
       "</div>"
      ],
      "text/plain": [
       "Empty DataFrame\n",
       "Columns: [Manufacturer, Model, Price, Transmission, Power, Engine_CC, Fuel, Male, Female, Gender_Unclassified, Total]\n",
       "Index: []"
      ]
     },
     "execution_count": 59,
     "metadata": {},
     "output_type": "execute_result"
    }
   ],
   "source": [
    "# Showcasing NaNs in the Price Columns after cleaning the dataset \n",
    "df[df['Price'].isna()]"
   ]
  },
  {
   "cell_type": "code",
   "execution_count": 60,
   "metadata": {},
   "outputs": [
    {
     "data": {
      "text/plain": [
       "<AxesSubplot:>"
      ]
     },
     "execution_count": 60,
     "metadata": {},
     "output_type": "execute_result"
    },
    {
     "data": {
      "image/png": "[encoded data removed]",
      "text/plain": [
       "<Figure size 432x288 with 1 Axes>"
      ]
     },
     "metadata": {
      "needs_background": "light"
     },
     "output_type": "display_data"
    }
   ],
   "source": [
    "#Checking for data entry error for Price columns before cleaning \n",
    "fig = plt.figure()\n",
    "fig.suptitle('Error with initial dataset - Price')\n",
    "Dataframe_beforecleaning.boxplot(column=['Price'],return_type='axes')"
   ]
  },
  {
   "cell_type": "code",
   "execution_count": 61,
   "metadata": {
    "scrolled": true
   },
   "outputs": [
    {
     "data": {
      "text/plain": [
       "<AxesSubplot:>"
      ]
     },
     "execution_count": 61,
     "metadata": {},
     "output_type": "execute_result"
    },
    {
     "data": {
      "image/png": "[encoded data removed]",
      "text/plain": [
       "<Figure size 432x288 with 1 Axes>"
      ]
     },
     "metadata": {
      "needs_background": "light"
     },
     "output_type": "display_data"
    }
   ],
   "source": [
    "#After resolving error with the cleaned dataset - Price Column\n",
    "fig = plt.figure()\n",
    "fig.suptitle('After resolving the error - Price')\n",
    "df.boxplot(column=['Price'],return_type='axes')"
   ]
  },
  {
   "cell_type": "markdown",
   "metadata": {},
   "source": [
    "### Task 2.2.1 - POWER COLUMN"
   ]
  },
  {
   "cell_type": "code",
   "execution_count": 62,
   "metadata": {},
   "outputs": [
    {
     "data": {
      "text/html": [
       "<div>\n",
       "<style scoped>\n",
       "    .dataframe tbody tr th:only-of-type {\n",
       "        vertical-align: middle;\n",
       "    }\n",
       "\n",
       "    .dataframe tbody tr th {\n",
       "        vertical-align: top;\n",
       "    }\n",
       "\n",
       "    .dataframe thead th {\n",
       "        text-align: right;\n",
       "    }\n",
       "</style>\n",
       "<table border=\"1\" class=\"dataframe\">\n",
       "  <thead>\n",
       "    <tr style=\"text-align: right;\">\n",
       "      <th></th>\n",
       "      <th>Manufacturer</th>\n",
       "      <th>Model</th>\n",
       "      <th>Price</th>\n",
       "      <th>Transmission</th>\n",
       "      <th>Power</th>\n",
       "      <th>Engine_CC</th>\n",
       "      <th>Fuel</th>\n",
       "      <th>Male</th>\n",
       "      <th>Female</th>\n",
       "      <th>Gender_Unclassified</th>\n",
       "      <th>Total</th>\n",
       "    </tr>\n",
       "  </thead>\n",
       "  <tbody>\n",
       "    <tr>\n",
       "      <th>23</th>\n",
       "      <td>Ford</td>\n",
       "      <td>Focus</td>\n",
       "      <td>NaN</td>\n",
       "      <td>NaN</td>\n",
       "      <td>NaN</td>\n",
       "      <td>NaN</td>\n",
       "      <td>NaN</td>\n",
       "      <td>NaN</td>\n",
       "      <td>NaN</td>\n",
       "      <td>NaN</td>\n",
       "      <td>NaN</td>\n",
       "    </tr>\n",
       "    <tr>\n",
       "      <th>32</th>\n",
       "      <td>Seat</td>\n",
       "      <td>Ibiza</td>\n",
       "      <td>NaN</td>\n",
       "      <td>NaN</td>\n",
       "      <td>NaN</td>\n",
       "      <td>NaN</td>\n",
       "      <td>NaN</td>\n",
       "      <td>NaN</td>\n",
       "      <td>NaN</td>\n",
       "      <td>NaN</td>\n",
       "      <td>NaN</td>\n",
       "    </tr>\n",
       "    <tr>\n",
       "      <th>54</th>\n",
       "      <td>Toyota</td>\n",
       "      <td>Aygo</td>\n",
       "      <td>NaN</td>\n",
       "      <td>NaN</td>\n",
       "      <td>NaN</td>\n",
       "      <td>NaN</td>\n",
       "      <td>NaN</td>\n",
       "      <td>NaN</td>\n",
       "      <td>NaN</td>\n",
       "      <td>NaN</td>\n",
       "      <td>NaN</td>\n",
       "    </tr>\n",
       "    <tr>\n",
       "      <th>65</th>\n",
       "      <td>Ford</td>\n",
       "      <td>NaN</td>\n",
       "      <td>NaN</td>\n",
       "      <td>NaN</td>\n",
       "      <td>NaN</td>\n",
       "      <td>NaN</td>\n",
       "      <td>NaN</td>\n",
       "      <td>NaN</td>\n",
       "      <td>NaN</td>\n",
       "      <td>NaN</td>\n",
       "      <td>NaN</td>\n",
       "    </tr>\n",
       "    <tr>\n",
       "      <th>75</th>\n",
       "      <td>NaN</td>\n",
       "      <td>106</td>\n",
       "      <td>NaN</td>\n",
       "      <td>4.647059</td>\n",
       "      <td>NaN</td>\n",
       "      <td>1366.294118</td>\n",
       "      <td>NaN</td>\n",
       "      <td>41,148</td>\n",
       "      <td>NaN</td>\n",
       "      <td>NaN</td>\n",
       "      <td>NaN</td>\n",
       "    </tr>\n",
       "  </tbody>\n",
       "</table>\n",
       "</div>"
      ],
      "text/plain": [
       "   Manufacturer  Model  Price  Transmission  Power    Engine_CC Fuel    Male  \\\n",
       "23         Ford  Focus    NaN           NaN    NaN          NaN  NaN     NaN   \n",
       "32         Seat  Ibiza    NaN           NaN    NaN          NaN  NaN     NaN   \n",
       "54       Toyota   Aygo    NaN           NaN    NaN          NaN  NaN     NaN   \n",
       "65         Ford    NaN    NaN           NaN    NaN          NaN  NaN     NaN   \n",
       "75          NaN    106    NaN      4.647059    NaN  1366.294118  NaN  41,148   \n",
       "\n",
       "   Female Gender_Unclassified Total  \n",
       "23    NaN                 NaN   NaN  \n",
       "32    NaN                 NaN   NaN  \n",
       "54    NaN                 NaN   NaN  \n",
       "65    NaN                 NaN   NaN  \n",
       "75    NaN                 NaN   NaN  "
      ]
     },
     "execution_count": 62,
     "metadata": {},
     "output_type": "execute_result"
    }
   ],
   "source": [
    "# Showcasing NaNs in the Power Column \n",
    "Dataframe_beforecleaning[Dataframe_beforecleaning['Power'].isna()]"
   ]
  },
  {
   "cell_type": "code",
   "execution_count": 63,
   "metadata": {},
   "outputs": [
    {
     "data": {
      "text/html": [
       "<div>\n",
       "<style scoped>\n",
       "    .dataframe tbody tr th:only-of-type {\n",
       "        vertical-align: middle;\n",
       "    }\n",
       "\n",
       "    .dataframe tbody tr th {\n",
       "        vertical-align: top;\n",
       "    }\n",
       "\n",
       "    .dataframe thead th {\n",
       "        text-align: right;\n",
       "    }\n",
       "</style>\n",
       "<table border=\"1\" class=\"dataframe\">\n",
       "  <thead>\n",
       "    <tr style=\"text-align: right;\">\n",
       "      <th></th>\n",
       "      <th>Manufacturer</th>\n",
       "      <th>Model</th>\n",
       "      <th>Price</th>\n",
       "      <th>Transmission</th>\n",
       "      <th>Power</th>\n",
       "      <th>Engine_CC</th>\n",
       "      <th>Fuel</th>\n",
       "      <th>Male</th>\n",
       "      <th>Female</th>\n",
       "      <th>Gender_Unclassified</th>\n",
       "      <th>Total</th>\n",
       "    </tr>\n",
       "  </thead>\n",
       "  <tbody>\n",
       "  </tbody>\n",
       "</table>\n",
       "</div>"
      ],
      "text/plain": [
       "Empty DataFrame\n",
       "Columns: [Manufacturer, Model, Price, Transmission, Power, Engine_CC, Fuel, Male, Female, Gender_Unclassified, Total]\n",
       "Index: []"
      ]
     },
     "execution_count": 63,
     "metadata": {},
     "output_type": "execute_result"
    }
   ],
   "source": [
    "# Showcasing NaNs in the Price Columns after cleaning the dataset\n",
    "df[df['Power'].isna()]"
   ]
  },
  {
   "cell_type": "code",
   "execution_count": 64,
   "metadata": {},
   "outputs": [
    {
     "data": {
      "text/plain": [
       "<AxesSubplot:>"
      ]
     },
     "execution_count": 64,
     "metadata": {},
     "output_type": "execute_result"
    },
    {
     "data": {
      "image/png": "[encoded data removed]",
      "text/plain": [
       "<Figure size 432x288 with 1 Axes>"
      ]
     },
     "metadata": {
      "needs_background": "light"
     },
     "output_type": "display_data"
    }
   ],
   "source": [
    "#Checking for data entry error for Power columns before cleaning \n",
    "fig = plt.figure()\n",
    "fig.suptitle('Error with initial dataset - Power')\n",
    "Dataframe_beforecleaning.boxplot(column=['Power'],return_type='axes')"
   ]
  },
  {
   "cell_type": "code",
   "execution_count": 65,
   "metadata": {},
   "outputs": [
    {
     "data": {
      "text/plain": [
       "<AxesSubplot:>"
      ]
     },
     "execution_count": 65,
     "metadata": {},
     "output_type": "execute_result"
    },
    {
     "data": {
      "image/png": "[encoded data removed]",
      "text/plain": [
       "<Figure size 432x288 with 1 Axes>"
      ]
     },
     "metadata": {
      "needs_background": "light"
     },
     "output_type": "display_data"
    }
   ],
   "source": [
    "#After resolving error with the cleaned dataset - Price Column\n",
    "fig = plt.figure()\n",
    "fig.suptitle('After resolving the error - Power')\n",
    "df.boxplot(column=['Power'],return_type='axes')"
   ]
  },
  {
   "cell_type": "markdown",
   "metadata": {},
   "source": [
    "# Task 2.3"
   ]
  },
  {
   "cell_type": "markdown",
   "metadata": {},
   "source": [
    "### Task 2.3.1"
   ]
  },
  {
   "cell_type": "code",
   "execution_count": 66,
   "metadata": {
    "scrolled": true
   },
   "outputs": [
    {
     "data": {
      "image/png": "[encoded data removed]",
      "text/plain": [
       "<Figure size 432x288 with 1 Axes>"
      ]
     },
     "metadata": {
      "needs_background": "light"
     },
     "output_type": "display_data"
    }
   ],
   "source": [
    "#Plotting the total numbers of male,femaale owners against top 10 owned Manufacturers   \n",
    "df_top10owners_Manufacturer = df_top10owners.groupby(['Manufacturer']).sum().reset_index()\n",
    "df_top10owners_Manufacturer.plot(kind='bar',x='Manufacturer',y=['Male','Female'])\n",
    "plt.show()"
   ]
  },
  {
   "cell_type": "markdown",
   "metadata": {},
   "source": [
    "### Task 2.3.2"
   ]
  },
  {
   "cell_type": "code",
   "execution_count": 67,
   "metadata": {},
   "outputs": [],
   "source": [
    "df_fuel_ownercount_top100 = df.sort_values(['Total'],ascending=False).head(100)"
   ]
  },
  {
   "cell_type": "code",
   "execution_count": 68,
   "metadata": {},
   "outputs": [
    {
     "data": {
      "text/plain": [
       "<AxesSubplot:ylabel='Male'>"
      ]
     },
     "execution_count": 68,
     "metadata": {},
     "output_type": "execute_result"
    },
    {
     "data": {
      "image/png": "[encoded data removed]",
      "text/plain": [
       "<Figure size 432x288 with 1 Axes>"
      ]
     },
     "metadata": {},
     "output_type": "display_data"
    }
   ],
   "source": [
    "explode = (0.1,0.1)\n",
    "df_fuel_ownercount_top100.groupby(['Fuel']).sum().plot(kind='pie',y='Male',autopct='%1.0f%%',explode=explode)"
   ]
  },
  {
   "cell_type": "markdown",
   "metadata": {},
   "source": [
    "### Task 2.3.3"
   ]
  },
  {
   "cell_type": "code",
   "execution_count": 69,
   "metadata": {},
   "outputs": [],
   "source": [
    "#Top 10 most expensive Models\n",
    "df_price = df.sort_values(['Price'],ascending=False).head(10)"
   ]
  },
  {
   "cell_type": "code",
   "execution_count": 70,
   "metadata": {},
   "outputs": [
    {
     "data": {
      "text/html": [
       "<div>\n",
       "<style scoped>\n",
       "    .dataframe tbody tr th:only-of-type {\n",
       "        vertical-align: middle;\n",
       "    }\n",
       "\n",
       "    .dataframe tbody tr th {\n",
       "        vertical-align: top;\n",
       "    }\n",
       "\n",
       "    .dataframe thead th {\n",
       "        text-align: right;\n",
       "    }\n",
       "</style>\n",
       "<table border=\"1\" class=\"dataframe\">\n",
       "  <thead>\n",
       "    <tr style=\"text-align: right;\">\n",
       "      <th></th>\n",
       "      <th>Manufacturer</th>\n",
       "      <th>Model</th>\n",
       "      <th>Price</th>\n",
       "      <th>Transmission</th>\n",
       "      <th>Power</th>\n",
       "      <th>Engine_CC</th>\n",
       "      <th>Fuel</th>\n",
       "      <th>Male</th>\n",
       "      <th>Female</th>\n",
       "      <th>Gender_Unclassified</th>\n",
       "      <th>Total</th>\n",
       "    </tr>\n",
       "  </thead>\n",
       "  <tbody>\n",
       "    <tr>\n",
       "      <th>336</th>\n",
       "      <td>Porsche</td>\n",
       "      <td>Carrera</td>\n",
       "      <td>646.605000</td>\n",
       "      <td>6.0</td>\n",
       "      <td>450.000000</td>\n",
       "      <td>5733.0</td>\n",
       "      <td>petrol</td>\n",
       "      <td>25353</td>\n",
       "      <td>2693</td>\n",
       "      <td>1067</td>\n",
       "      <td>29113</td>\n",
       "    </tr>\n",
       "    <tr>\n",
       "      <th>15</th>\n",
       "      <td>Aston-Martin</td>\n",
       "      <td>Vantage</td>\n",
       "      <td>360.755000</td>\n",
       "      <td>6.0</td>\n",
       "      <td>410.000000</td>\n",
       "      <td>5341.0</td>\n",
       "      <td>petrol</td>\n",
       "      <td>25375</td>\n",
       "      <td>2035</td>\n",
       "      <td>971</td>\n",
       "      <td>28381</td>\n",
       "    </tr>\n",
       "    <tr>\n",
       "      <th>55</th>\n",
       "      <td>Bentley</td>\n",
       "      <td>Continental</td>\n",
       "      <td>285.247000</td>\n",
       "      <td>7.2</td>\n",
       "      <td>428.200000</td>\n",
       "      <td>5577.8</td>\n",
       "      <td>petrol</td>\n",
       "      <td>52397</td>\n",
       "      <td>6055</td>\n",
       "      <td>2569</td>\n",
       "      <td>61021</td>\n",
       "    </tr>\n",
       "    <tr>\n",
       "      <th>14</th>\n",
       "      <td>Aston-Martin</td>\n",
       "      <td>DB9</td>\n",
       "      <td>273.755000</td>\n",
       "      <td>6.0</td>\n",
       "      <td>381.000000</td>\n",
       "      <td>5935.0</td>\n",
       "      <td>petrol</td>\n",
       "      <td>24625</td>\n",
       "      <td>1989</td>\n",
       "      <td>930</td>\n",
       "      <td>27544</td>\n",
       "    </tr>\n",
       "    <tr>\n",
       "      <th>254</th>\n",
       "      <td>Mercedes</td>\n",
       "      <td>SLS</td>\n",
       "      <td>264.675000</td>\n",
       "      <td>7.0</td>\n",
       "      <td>420.000000</td>\n",
       "      <td>6208.0</td>\n",
       "      <td>petrol</td>\n",
       "      <td>143077</td>\n",
       "      <td>40137</td>\n",
       "      <td>10105</td>\n",
       "      <td>193319</td>\n",
       "    </tr>\n",
       "    <tr>\n",
       "      <th>110</th>\n",
       "      <td>Ferrari</td>\n",
       "      <td>F430</td>\n",
       "      <td>260.287000</td>\n",
       "      <td>6.0</td>\n",
       "      <td>360.000000</td>\n",
       "      <td>4308.0</td>\n",
       "      <td>petrol</td>\n",
       "      <td>5229</td>\n",
       "      <td>230</td>\n",
       "      <td>183</td>\n",
       "      <td>5642</td>\n",
       "    </tr>\n",
       "    <tr>\n",
       "      <th>225</th>\n",
       "      <td>Maserati</td>\n",
       "      <td>GranCabrio</td>\n",
       "      <td>245.168000</td>\n",
       "      <td>6.0</td>\n",
       "      <td>338.000000</td>\n",
       "      <td>4691.0</td>\n",
       "      <td>petrol</td>\n",
       "      <td>3250</td>\n",
       "      <td>229</td>\n",
       "      <td>119</td>\n",
       "      <td>3598</td>\n",
       "    </tr>\n",
       "    <tr>\n",
       "      <th>33</th>\n",
       "      <td>Audi</td>\n",
       "      <td>R8</td>\n",
       "      <td>226.383333</td>\n",
       "      <td>6.5</td>\n",
       "      <td>368.666667</td>\n",
       "      <td>4857.0</td>\n",
       "      <td>petrol</td>\n",
       "      <td>7623</td>\n",
       "      <td>567</td>\n",
       "      <td>376</td>\n",
       "      <td>8566</td>\n",
       "    </tr>\n",
       "    <tr>\n",
       "      <th>109</th>\n",
       "      <td>Ferrari</td>\n",
       "      <td>360</td>\n",
       "      <td>200.198250</td>\n",
       "      <td>6.0</td>\n",
       "      <td>294.000000</td>\n",
       "      <td>3586.0</td>\n",
       "      <td>petrol</td>\n",
       "      <td>5057</td>\n",
       "      <td>298</td>\n",
       "      <td>214</td>\n",
       "      <td>5569</td>\n",
       "    </tr>\n",
       "    <tr>\n",
       "      <th>278</th>\n",
       "      <td>Nissan</td>\n",
       "      <td>GT-R</td>\n",
       "      <td>177.500000</td>\n",
       "      <td>6.0</td>\n",
       "      <td>419.000000</td>\n",
       "      <td>3799.0</td>\n",
       "      <td>petrol</td>\n",
       "      <td>4169</td>\n",
       "      <td>180</td>\n",
       "      <td>205</td>\n",
       "      <td>4554</td>\n",
       "    </tr>\n",
       "  </tbody>\n",
       "</table>\n",
       "</div>"
      ],
      "text/plain": [
       "     Manufacturer        Model       Price  Transmission       Power  \\\n",
       "336       Porsche      Carrera  646.605000           6.0  450.000000   \n",
       "15   Aston-Martin      Vantage  360.755000           6.0  410.000000   \n",
       "55        Bentley  Continental  285.247000           7.2  428.200000   \n",
       "14   Aston-Martin          DB9  273.755000           6.0  381.000000   \n",
       "254      Mercedes          SLS  264.675000           7.0  420.000000   \n",
       "110       Ferrari         F430  260.287000           6.0  360.000000   \n",
       "225      Maserati   GranCabrio  245.168000           6.0  338.000000   \n",
       "33           Audi           R8  226.383333           6.5  368.666667   \n",
       "109       Ferrari          360  200.198250           6.0  294.000000   \n",
       "278        Nissan         GT-R  177.500000           6.0  419.000000   \n",
       "\n",
       "     Engine_CC    Fuel    Male  Female  Gender_Unclassified   Total  \n",
       "336     5733.0  petrol   25353    2693                 1067   29113  \n",
       "15      5341.0  petrol   25375    2035                  971   28381  \n",
       "55      5577.8  petrol   52397    6055                 2569   61021  \n",
       "14      5935.0  petrol   24625    1989                  930   27544  \n",
       "254     6208.0  petrol  143077   40137                10105  193319  \n",
       "110     4308.0  petrol    5229     230                  183    5642  \n",
       "225     4691.0  petrol    3250     229                  119    3598  \n",
       "33      4857.0  petrol    7623     567                  376    8566  \n",
       "109     3586.0  petrol    5057     298                  214    5569  \n",
       "278     3799.0  petrol    4169     180                  205    4554  "
      ]
     },
     "execution_count": 70,
     "metadata": {},
     "output_type": "execute_result"
    }
   ],
   "source": [
    "df_price.head(10)"
   ]
  },
  {
   "cell_type": "code",
   "execution_count": 71,
   "metadata": {},
   "outputs": [
    {
     "data": {
      "text/plain": [
       "<AxesSubplot:xlabel='Model'>"
      ]
     },
     "execution_count": 71,
     "metadata": {},
     "output_type": "execute_result"
    },
    {
     "data": {
      "image/png": "[encoded data removed]",
      "text/plain": [
       "<Figure size 432x288 with 1 Axes>"
      ]
     },
     "metadata": {
      "needs_background": "light"
     },
     "output_type": "display_data"
    }
   ],
   "source": [
    "#Plotting total number of male owners against the top 10 most expensive Models\n",
    "df_price.plot(kind='bar',x='Model',y='Male')"
   ]
  }
 ],
 "metadata": {
  "kernelspec": {
   "display_name": "Python 3",
   "language": "python",
   "name": "python3"
  },
  "language_info": {
   "codemirror_mode": {
    "name": "ipython",
    "version": 3
   },
   "file_extension": ".py",
   "mimetype": "text/x-python",
   "name": "python",
   "nbconvert_exporter": "python",
   "pygments_lexer": "ipython3",
   "version": "3.8.5"
  }
 },
 "nbformat": 4,
 "nbformat_minor": 4
}
