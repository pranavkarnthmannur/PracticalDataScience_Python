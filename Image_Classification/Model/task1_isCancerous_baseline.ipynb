{
  "nbformat": 4,
  "nbformat_minor": 0,
  "metadata": {
    "colab": {
      "provenance": []
    },
    "kernelspec": {
      "name": "python3",
      "display_name": "Python 3"
    },
    "language_info": {
      "name": "python"
    }
  },
  "cells": [
    {
      "cell_type": "code",
      "source": [
        "import zipfile\n",
        "\n",
        "# Extracting ZIP file for the images and CSV file\n",
        "with zipfile.ZipFile('/content/Image_classification_data.zip', 'r') as zip_ref:\n",
        "    zip_ref.extractall('./')"
      ],
      "metadata": {
        "id": "c-wogIux_lus"
      },
      "execution_count": null,
      "outputs": []
    },
    {
      "cell_type": "markdown",
      "source": [
        "#**TASK 1 - Cancerous / Not Cancerous - Baseline Model**"
      ],
      "metadata": {
        "id": "bbe935A2N9z2"
      }
    },
    {
      "cell_type": "markdown",
      "source": [
        "**Imports**"
      ],
      "metadata": {
        "id": "-y7WIuxPPvZ-"
      }
    },
    {
      "cell_type": "code",
      "source": [
        "# Importing libraries\n",
        "\n",
        "import numpy as np\n",
        "from sklearn.model_selection import train_test_split\n",
        "import pandas as pd\n",
        "from tensorflow import keras\n",
        "import tensorflow as tf\n",
        "import matplotlib.pyplot as plt\n",
        "from sklearn.metrics import accuracy_score,confusion_matrix,classification_report\n",
        "from tensorflow.keras import datasets, layers, models\n",
        "import cv2\n",
        "from tensorflow.keras.preprocessing.image import ImageDataGenerator\n",
        "from keras.layers import Dense, Activation, Flatten, Dropout, BatchNormalization"
      ],
      "metadata": {
        "id": "MVdD1lFM_qMF"
      },
      "execution_count": null,
      "outputs": []
    },
    {
      "cell_type": "markdown",
      "source": [
        "**Reading and Splitting Data**"
      ],
      "metadata": {
        "id": "1ljp6nUpP0F5"
      }
    },
    {
      "cell_type": "code",
      "source": [
        "# reading the data from data_labels_mainData csv files \n",
        "\n",
        "data_main = pd.read_csv('/content/data_labels_mainData.csv')\n",
        "data_main = data_main[['InstanceID','patientID','ImageName', 'isCancerous']]\n",
        "\n",
        "\n",
        "# reading the data from data_labels_extraData csv files \n",
        "data_extra = pd.read_csv('/content/data_labels_extraData.csv')\n",
        "data_extra = data_extra[['InstanceID','patientID','ImageName', 'isCancerous']]\n",
        "\n",
        "data =data_extra\n",
        "# concatinating the data \n",
        "# data = pd.concat([data_main, data_extra], axis=0)\n",
        "data['isCancerous'] = data['isCancerous'].astype(str)\n"
      ],
      "metadata": {
        "id": "Dpz0i9Y2_q0x"
      },
      "execution_count": null,
      "outputs": []
    },
    {
      "cell_type": "markdown",
      "source": [
        "**Image Data Generator**"
      ],
      "metadata": {
        "id": "Nj4xaH53QHtb"
      }
    },
    {
      "cell_type": "code",
      "source": [
        "# Real time data augmentation\n",
        "train_data, test_data = train_test_split(data, test_size=0.1, random_state=42,stratify= data['isCancerous'])\n",
        "train_data, val_data = train_test_split(train_data, test_size=0.20, random_state=42, stratify= train_data['isCancerous'])\n",
        "print(\"Train data : {}, Val Data: {}\".format(train_data.shape[0], val_data.shape[0]))\n",
        "\n",
        "train_datagen=ImageDataGenerator(zoom_range=0.1,shear_range=0.2,rescale=1/255,horizontal_flip=True)\n",
        "# train_datagen=ImageDataGenerator(rescale=1/255)\n",
        "val_datagen = ImageDataGenerator(rescale=1/255)\n",
        "\n",
        "\n",
        " \n",
        "batch_size = 32\n",
        "train_generator = train_datagen.flow_from_dataframe(\n",
        "        dataframe=train_data,\n",
        "        directory='/content/patch_images',\n",
        "        x_col=\"ImageName\",\n",
        "        y_col=\"isCancerous\",\n",
        "        target_size=(27, 27),\n",
        "        batch_size=batch_size,\n",
        "        class_mode='binary')\n",
        "\n",
        "valid_generator = val_datagen.flow_from_dataframe(\n",
        "        dataframe=val_data,\n",
        "        directory='/content/patch_images',\n",
        "        x_col=\"ImageName\",\n",
        "        y_col=\"isCancerous\",\n",
        "        target_size=(27, 27),\n",
        "        batch_size=batch_size,\n",
        "        class_mode='binary')\n",
        "\n",
        "\n",
        "test_data['isCancerous'] = test_data['isCancerous'].astype(str)\n",
        "test_datagen = ImageDataGenerator(rescale=1./255)\n",
        "\n",
        "batch_size = 32\n",
        "\n",
        "test_generator = test_datagen.flow_from_dataframe(\n",
        "        dataframe=test_data,\n",
        "        directory='/content/patch_images',\n",
        "        \n",
        "        x_col=\"ImageName\",\n",
        "        y_col=\"isCancerous\",\n",
        "        target_size=(27,27),\n",
        "        batch_size=batch_size,\n",
        "        class_mode='binary')"
      ],
      "metadata": {
        "colab": {
          "base_uri": "https://localhost:8080/"
        },
        "id": "LfM89Zbg_vCP",
        "outputId": "cc3e0d96-f230-4e29-f2e8-733fb347b2f7"
      },
      "execution_count": null,
      "outputs": [
        {
          "output_type": "stream",
          "name": "stdout",
          "text": [
            "Train data : 7476, Val Data: 1869\n",
            "Found 7476 validated image filenames belonging to 2 classes.\n",
            "Found 1869 validated image filenames belonging to 2 classes.\n",
            "Found 1039 validated image filenames belonging to 2 classes.\n"
          ]
        }
      ]
    },
    {
      "cell_type": "markdown",
      "source": [
        "**Model - Baseline**"
      ],
      "metadata": {
        "id": "VK41uYx_QM_E"
      }
    },
    {
      "cell_type": "code",
      "execution_count": null,
      "metadata": {
        "colab": {
          "base_uri": "https://localhost:8080/"
        },
        "id": "yfdSZDnT_SoA",
        "outputId": "530069f4-9ba1-4890-97ca-b16aa00c5caf"
      },
      "outputs": [
        {
          "output_type": "stream",
          "name": "stdout",
          "text": [
            "Model: \"sequential\"\n",
            "_________________________________________________________________\n",
            " Layer (type)                Output Shape              Param #   \n",
            "=================================================================\n",
            " flatten (Flatten)           (None, 2187)              0         \n",
            "                                                                 \n",
            " dense (Dense)               (None, 256)               560128    \n",
            "                                                                 \n",
            " dense_1 (Dense)             (None, 1)                 257       \n",
            "                                                                 \n",
            "=================================================================\n",
            "Total params: 560,385\n",
            "Trainable params: 560,385\n",
            "Non-trainable params: 0\n",
            "_________________________________________________________________\n"
          ]
        }
      ],
      "source": [
        "#Creating new model and adding layers\n",
        "baseModel= models.Sequential()\n",
        "baseModel.add(Flatten(input_shape=(27,27,3)))\n",
        "baseModel.add(Dense(256))\n",
        "baseModel.add(Dense(1,activation='sigmoid'))\n",
        "\n",
        "baseModel.summary()"
      ]
    },
    {
      "cell_type": "code",
      "source": [
        "baseModel.compile(optimizer='SGD',\n",
        "                  loss=tf.keras.losses.BinaryCrossentropy(from_logits=False),\n",
        "                  metrics=['accuracy'])\n",
        "\n",
        "baseModelHistory = baseModel.fit(train_generator,\n",
        "                                 validation_data=valid_generator,\n",
        "                                 epochs=8)\n"
      ],
      "metadata": {
        "colab": {
          "base_uri": "https://localhost:8080/"
        },
        "id": "lD0FYoNT_WL7",
        "outputId": "14407180-7ddb-48e7-9e91-bc9683cc3754"
      },
      "execution_count": null,
      "outputs": [
        {
          "output_type": "stream",
          "name": "stdout",
          "text": [
            "Epoch 1/8\n",
            "234/234 [==============================] - 11s 42ms/step - loss: 0.6942 - accuracy: 0.7235 - val_loss: 0.3762 - val_accuracy: 0.8566\n",
            "Epoch 2/8\n",
            "234/234 [==============================] - 9s 38ms/step - loss: 0.4194 - accuracy: 0.8074 - val_loss: 0.3351 - val_accuracy: 0.8614\n",
            "Epoch 3/8\n",
            "234/234 [==============================] - 8s 34ms/step - loss: 0.3750 - accuracy: 0.8363 - val_loss: 0.3700 - val_accuracy: 0.8325\n",
            "Epoch 4/8\n",
            "234/234 [==============================] - 10s 42ms/step - loss: 0.3416 - accuracy: 0.8514 - val_loss: 0.3243 - val_accuracy: 0.8566\n",
            "Epoch 5/8\n",
            "234/234 [==============================] - 11s 46ms/step - loss: 0.3316 - accuracy: 0.8578 - val_loss: 0.2969 - val_accuracy: 0.8727\n",
            "Epoch 6/8\n",
            "234/234 [==============================] - 9s 39ms/step - loss: 0.3293 - accuracy: 0.8558 - val_loss: 0.3122 - val_accuracy: 0.8662\n",
            "Epoch 7/8\n",
            "234/234 [==============================] - 9s 37ms/step - loss: 0.3131 - accuracy: 0.8625 - val_loss: 0.3403 - val_accuracy: 0.8432\n",
            "Epoch 8/8\n",
            "234/234 [==============================] - 11s 47ms/step - loss: 0.3154 - accuracy: 0.8681 - val_loss: 0.2867 - val_accuracy: 0.8727\n"
          ]
        }
      ]
    },
    {
      "cell_type": "markdown",
      "source": [
        "**Plotting Metrics**"
      ],
      "metadata": {
        "id": "z0ZJfOnmQYXk"
      }
    },
    {
      "cell_type": "code",
      "source": [
        "import matplotlib.pyplot as plt\n",
        "import seaborn as sns\n",
        "from sklearn.metrics import confusion_matrix, roc_curve, auc\n",
        "\n",
        "def evaluate_model(model, model_name, test_generator, valid_generator, train_generator):\n",
        "    # Get predictions for test, validation, and train data\n",
        "    test_labels = np.concatenate([test_generator[i][1] for i in range(len(test_generator))])\n",
        "    test_predictions = model.predict(test_generator) \n",
        "\n",
        "    validation_labels = np.concatenate([valid_generator[i][1] for i in range(len(valid_generator))])\n",
        "    val_predictions = model.predict(valid_generator) \n",
        "\n",
        "    train_labels = np.concatenate([train_generator[i][1] for i in range(len(train_generator))])\n",
        "    train_predictions = model.predict(train_generator)\n",
        "\n",
        "    # Confusion Matrix\n",
        "    test_cm = confusion_matrix(test_labels, test_predictions > 0.5)\n",
        "    val_cm = confusion_matrix(validation_labels, val_predictions > 0.5)\n",
        "    train_cm = confusion_matrix(train_labels, train_predictions > 0.5)\n",
        "\n",
        "    # ROC Curve\n",
        "    test_fpr, test_tpr, _ = roc_curve(test_labels, test_predictions)\n",
        "    val_fpr, val_tpr, _ = roc_curve(validation_labels, val_predictions)\n",
        "    train_fpr, train_tpr, _ = roc_curve(train_labels, train_predictions)\n",
        "\n",
        "    test_auc = auc(test_fpr, test_tpr)\n",
        "    val_auc = auc(val_fpr, val_tpr)\n",
        "    train_auc = auc(train_fpr, train_tpr)\n",
        "\n",
        "    # Calculate performance metrics for test data\n",
        "    accuracy_test = (test_cm[0, 0] + test_cm[1, 1]) / sum(sum(test_cm))\n",
        "    precision_test = test_cm[1, 1] / (test_cm[1, 1] + test_cm[0, 1])\n",
        "    recall_test = test_cm[1, 1] / (test_cm[1, 1] + test_cm[1, 0])\n",
        "    specificity_test = test_cm[0, 0] / (test_cm[0, 0] + test_cm[0, 1])\n",
        "    f1_score_test = 2 * (precision_test * recall_test) / (precision_test + recall_test)\n",
        "\n",
        "    # Calculate performance metrics for validation data\n",
        "    accuracy_val = (val_cm[0, 0] + val_cm[1, 1]) / sum(sum(val_cm))\n",
        "    precision_val = val_cm[1, 1] / (val_cm[1, 1] + val_cm[0, 1])\n",
        "    recall_val = val_cm[1, 1] / (val_cm[1, 1] + val_cm[1, 0])\n",
        "    specificity_val = val_cm[0, 0] / (val_cm[0, 0] + val_cm[0, 1])\n",
        "    f1_score_val = 2 * (precision_val * recall_val) / (precision_val + recall_val)\n",
        "\n",
        "    # Calculate performance metrics for train data\n",
        "    accuracy_train = (train_cm[0, 0] + train_cm[1, 1]) / sum(sum(train_cm))\n",
        "    precision_train = train_cm[1, 1] / (train_cm[1, 1] + train_cm[0, 1])\n",
        "    recall_train = train_cm[1, 1] / (train_cm[1, 1] + train_cm[1, 0])\n",
        "    specificity_train = train_cm[0, 0] / (train_cm[0, 0] + train_cm[0, 1])\n",
        "    f1_score_train = 2 * (precision_train * recall_train) / (precision_train + recall_train)\n",
        "\n",
        "    # Set the column width for alignment\n",
        "    column_width = 20\n",
        "\n",
        "    # Print performance metrics for test data\n",
        "    print(f'{model_name}-Test,Validation and Train Metrics'.center(column_width*3))\n",
        "    print(f\" Test Model: {model_name:<{column_width}}\\tValidation: {model_name:<{column_width}}\\t\\tTrain: {model_name}\")\n",
        "    print(f\" Test Accuracy: {accuracy_test:<{column_width}.4f}\\tValidation Accuracy: {accuracy_val:<{column_width}.4f}\\tTrain Accuracy: {accuracy_train:.4f}\")\n",
        "    print(f\" Test Precision: {precision_test:<{column_width}.4f}\\tValidation Precision: {precision_val:<{column_width}.4f}\\tTrain Precision: {precision_train:.4f}\")\n",
        "    print(f\" Test Recall: {recall_test:<{column_width}.4f}\\tValidation Recall: {recall_val:<{column_width}.4f}\\t\\tTrain Recall: {recall_train:.4f}\")\n",
        "    print(f\" Test Specificity: {specificity_test:<{column_width}.4f}\\tValidation Specificity: {specificity_val:<{column_width}.4f}\\tTrain Specificity: {specificity_train:.4f}\")\n",
        "    print(f\" Test F1 Score: {f1_score_test:<{column_width}.4f}\\tValidation F1 Score: {f1_score_val:<{column_width}.4f}\\tTrain F1 Score: {f1_score_train:.4f}\")\n",
        "\n",
        "\n",
        "    # Plotting\n",
        "    # Confusion Matrix\n",
        "    plt.figure(figsize=(20, 2))\n",
        "    plt.subplot(1, 4, 1)\n",
        "    plt.title(f'{model_name} - Test Confusion Matrix', fontsize=8)\n",
        "    sns.heatmap(test_cm, annot=True, fmt='d', cmap='Blues', cbar=False)\n",
        "    plt.xlabel('Predicted Labels')\n",
        "    plt.ylabel('True Labels')\n",
        "\n",
        "    plt.subplot(1, 4, 2)\n",
        "    plt.title(f'{model_name} - Validation Confusion Matrix', fontsize=8)\n",
        "    sns.heatmap(val_cm, annot=True, fmt='d', cmap='Blues', cbar=False)\n",
        "    plt.xlabel('Predicted Labels')\n",
        "    plt.ylabel('True Labels')\n",
        "\n",
        "    plt.subplot(1, 4, 3)\n",
        "    plt.title(f'{model_name} - Train Confusion Matrix', fontsize=8)\n",
        "    sns.heatmap(train_cm, annot=True, fmt='d', cmap='Blues', cbar=False)\n",
        "    plt.xlabel('Predicted Labels')\n",
        "    plt.ylabel('True Labels')\n",
        "\n",
        "    # ROC Curve\n",
        "    plt.subplot(1, 4, 4)\n",
        "    plt.plot(test_fpr, test_tpr, label=f'Test ROC Curve (AUC = {test_auc:.2f})')\n",
        "    plt.plot(val_fpr, val_tpr, label=f'Validation ROC Curve (AUC = {val_auc:.2f})')\n",
        "    plt.plot(train_fpr, train_tpr, label=f'Train ROC Curve (AUC = {train_auc:.2f})')\n",
        "    plt.xlabel('False Positive Rate')\n",
        "    plt.ylabel('True Positive Rate')\n",
        "    plt.title(f'{model_name} - ROC Curve', fontsize=10)\n",
        "    plt.legend()\n",
        "    plt.show()\n",
        "\n",
        "\n",
        "\n",
        "\n",
        "\n"
      ],
      "metadata": {
        "id": "vM34UelS_hCD"
      },
      "execution_count": null,
      "outputs": []
    },
    {
      "cell_type": "code",
      "source": [
        "evaluate_model(baseModel, \"base Model \", test_generator, valid_generator, train_generator)"
      ],
      "metadata": {
        "colab": {
          "base_uri": "https://localhost:8080/",
          "height": 353
        },
        "id": "JjOPi55l_cHc",
        "outputId": "e3282139-4fa1-45e2-8a74-3d83de7e4b7b"
      },
      "execution_count": null,
      "outputs": [
        {
          "output_type": "stream",
          "name": "stdout",
          "text": [
            "33/33 [==============================] - 2s 42ms/step\n",
            "59/59 [==============================] - 2s 24ms/step\n",
            "234/234 [==============================] - 8s 33ms/step\n",
            "       base Model -Test,Validation and Train Metrics        \n",
            " Test Model: base Model          \tValidation: base Model          \t\tTrain: base Model \n",
            " Test Accuracy: 0.8951              \tValidation Accuracy: 0.8727              \tTrain Accuracy: 0.8799\n",
            " Test Precision: 0.8571              \tValidation Precision: 0.8151              \tTrain Precision: 0.8220\n",
            " Test Recall: 0.7625              \tValidation Recall: 0.7212              \t\tTrain Recall: 0.7441\n",
            " Test Specificity: 0.9486              \tValidation Specificity: 0.9339              \tTrain Specificity: 0.9348\n",
            " Test F1 Score: 0.8071              \tValidation F1 Score: 0.7653              \tTrain F1 Score: 0.7811\n"
          ]
        },
        {
          "output_type": "display_data",
          "data": {
            "text/plain": [
              "<Figure size 2000x200 with 4 Axes>"
            ],
            "image/png": "[encoded data removed]"
          },
          "metadata": {}
        }
      ]
    }
  ]
}