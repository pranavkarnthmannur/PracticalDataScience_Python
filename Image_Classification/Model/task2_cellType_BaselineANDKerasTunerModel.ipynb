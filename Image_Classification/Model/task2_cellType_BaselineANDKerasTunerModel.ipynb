{
  "nbformat": 4,
  "nbformat_minor": 0,
  "metadata": {
    "colab": {
      "provenance": [],
      "gpuType": "T4",
      "toc_visible": true
    },
    "kernelspec": {
      "name": "python3",
      "display_name": "Python 3"
    },
    "language_info": {
      "name": "python"
    },
    "gpuClass": "standard",
    "accelerator": "GPU"
  },
  "cells": [
    {
      "cell_type": "code",
      "execution_count": 1,
      "metadata": {
        "id": "chnEF3kddbhw"
      },
      "outputs": [],
      "source": [
        "import zipfile\n",
        "\n",
        "# Extracting ZIP file for the images and CSV file\n",
        "with zipfile.ZipFile('/content/Image_classification_data.zip', 'r') as zip_ref:\n",
        "    zip_ref.extractall('./')"
      ]
    },
    {
      "cell_type": "markdown",
      "source": [
        "#Imports"
      ],
      "metadata": {
        "id": "gYtax1Wwd2Wp"
      }
    },
    {
      "cell_type": "code",
      "source": [
        "import numpy as np\n",
        "from sklearn.model_selection import train_test_split\n",
        "import pandas as pd\n",
        "from tensorflow import keras\n",
        "import tensorflow as tf\n",
        "import matplotlib.pyplot as plt\n",
        "from sklearn.metrics import accuracy_score,confusion_matrix,classification_report\n",
        "from tensorflow.keras import datasets, layers, models\n",
        "import cv2\n",
        "from tensorflow.keras.preprocessing.image import ImageDataGenerator\n",
        "from keras.layers import Dense, Activation, Flatten, Dropout, BatchNormalization"
      ],
      "metadata": {
        "id": "M1dzymoBlkU-"
      },
      "execution_count": 2,
      "outputs": []
    },
    {
      "cell_type": "markdown",
      "source": [
        "#Exploratory Data Analysis"
      ],
      "metadata": {
        "id": "shfpW2ldhjSq"
      }
    },
    {
      "cell_type": "code",
      "source": [
        "data_main = pd.read_csv('/content/data_labels_mainData.csv')\n",
        "data_main = data_main[['ImageName', 'cellType']]\n",
        "data_main.head()"
      ],
      "metadata": {
        "colab": {
          "base_uri": "https://localhost:8080/",
          "height": 206
        },
        "id": "vsIP7QRMlmXQ",
        "outputId": "3fefe626-0191-41e7-cf95-7b0736ddd176"
      },
      "execution_count": 3,
      "outputs": [
        {
          "output_type": "execute_result",
          "data": {
            "text/plain": [
              "   ImageName  cellType\n",
              "0  22405.png         0\n",
              "1  22406.png         0\n",
              "2  22407.png         0\n",
              "3  22408.png         0\n",
              "4  22409.png         0"
            ],
            "text/html": [
              "\n",
              "  <div id=\"df-07f544d2-f092-4844-8596-2e99e8eaf448\">\n",
              "    <div class=\"colab-df-container\">\n",
              "      <div>\n",
              "<style scoped>\n",
              "    .dataframe tbody tr th:only-of-type {\n",
              "        vertical-align: middle;\n",
              "    }\n",
              "\n",
              "    .dataframe tbody tr th {\n",
              "        vertical-align: top;\n",
              "    }\n",
              "\n",
              "    .dataframe thead th {\n",
              "        text-align: right;\n",
              "    }\n",
              "</style>\n",
              "<table border=\"1\" class=\"dataframe\">\n",
              "  <thead>\n",
              "    <tr style=\"text-align: right;\">\n",
              "      <th></th>\n",
              "      <th>ImageName</th>\n",
              "      <th>cellType</th>\n",
              "    </tr>\n",
              "  </thead>\n",
              "  <tbody>\n",
              "    <tr>\n",
              "      <th>0</th>\n",
              "      <td>22405.png</td>\n",
              "      <td>0</td>\n",
              "    </tr>\n",
              "    <tr>\n",
              "      <th>1</th>\n",
              "      <td>22406.png</td>\n",
              "      <td>0</td>\n",
              "    </tr>\n",
              "    <tr>\n",
              "      <th>2</th>\n",
              "      <td>22407.png</td>\n",
              "      <td>0</td>\n",
              "    </tr>\n",
              "    <tr>\n",
              "      <th>3</th>\n",
              "      <td>22408.png</td>\n",
              "      <td>0</td>\n",
              "    </tr>\n",
              "    <tr>\n",
              "      <th>4</th>\n",
              "      <td>22409.png</td>\n",
              "      <td>0</td>\n",
              "    </tr>\n",
              "  </tbody>\n",
              "</table>\n",
              "</div>\n",
              "      <button class=\"colab-df-convert\" onclick=\"convertToInteractive('df-07f544d2-f092-4844-8596-2e99e8eaf448')\"\n",
              "              title=\"Convert this dataframe to an interactive table.\"\n",
              "              style=\"display:none;\">\n",
              "        \n",
              "  <svg xmlns=\"http://www.w3.org/2000/svg\" height=\"24px\"viewBox=\"0 0 24 24\"\n",
              "       width=\"24px\">\n",
              "    <path d=\"M0 0h24v24H0V0z\" fill=\"none\"/>\n",
              "    <path d=\"M18.56 5.44l.94 2.06.94-2.06 2.06-.94-2.06-.94-.94-2.06-.94 2.06-2.06.94zm-11 1L8.5 8.5l.94-2.06 2.06-.94-2.06-.94L8.5 2.5l-.94 2.06-2.06.94zm10 10l.94 2.06.94-2.06 2.06-.94-2.06-.94-.94-2.06-.94 2.06-2.06.94z\"/><path d=\"M17.41 7.96l-1.37-1.37c-.4-.4-.92-.59-1.43-.59-.52 0-1.04.2-1.43.59L10.3 9.45l-7.72 7.72c-.78.78-.78 2.05 0 2.83L4 21.41c.39.39.9.59 1.41.59.51 0 1.02-.2 1.41-.59l7.78-7.78 2.81-2.81c.8-.78.8-2.07 0-2.86zM5.41 20L4 18.59l7.72-7.72 1.47 1.35L5.41 20z\"/>\n",
              "  </svg>\n",
              "      </button>\n",
              "      \n",
              "  <style>\n",
              "    .colab-df-container {\n",
              "      display:flex;\n",
              "      flex-wrap:wrap;\n",
              "      gap: 12px;\n",
              "    }\n",
              "\n",
              "    .colab-df-convert {\n",
              "      background-color: #E8F0FE;\n",
              "      border: none;\n",
              "      border-radius: 50%;\n",
              "      cursor: pointer;\n",
              "      display: none;\n",
              "      fill: #1967D2;\n",
              "      height: 32px;\n",
              "      padding: 0 0 0 0;\n",
              "      width: 32px;\n",
              "    }\n",
              "\n",
              "    .colab-df-convert:hover {\n",
              "      background-color: #E2EBFA;\n",
              "      box-shadow: 0px 1px 2px rgba(60, 64, 67, 0.3), 0px 1px 3px 1px rgba(60, 64, 67, 0.15);\n",
              "      fill: #174EA6;\n",
              "    }\n",
              "\n",
              "    [theme=dark] .colab-df-convert {\n",
              "      background-color: #3B4455;\n",
              "      fill: #D2E3FC;\n",
              "    }\n",
              "\n",
              "    [theme=dark] .colab-df-convert:hover {\n",
              "      background-color: #434B5C;\n",
              "      box-shadow: 0px 1px 3px 1px rgba(0, 0, 0, 0.15);\n",
              "      filter: drop-shadow(0px 1px 2px rgba(0, 0, 0, 0.3));\n",
              "      fill: #FFFFFF;\n",
              "    }\n",
              "  </style>\n",
              "\n",
              "      <script>\n",
              "        const buttonEl =\n",
              "          document.querySelector('#df-07f544d2-f092-4844-8596-2e99e8eaf448 button.colab-df-convert');\n",
              "        buttonEl.style.display =\n",
              "          google.colab.kernel.accessAllowed ? 'block' : 'none';\n",
              "\n",
              "        async function convertToInteractive(key) {\n",
              "          const element = document.querySelector('#df-07f544d2-f092-4844-8596-2e99e8eaf448');\n",
              "          const dataTable =\n",
              "            await google.colab.kernel.invokeFunction('convertToInteractive',\n",
              "                                                     [key], {});\n",
              "          if (!dataTable) return;\n",
              "\n",
              "          const docLinkHtml = 'Like what you see? Visit the ' +\n",
              "            '<a target=\"_blank\" href=https://colab.research.google.com/notebooks/data_table.ipynb>data table notebook</a>'\n",
              "            + ' to learn more about interactive tables.';\n",
              "          element.innerHTML = '';\n",
              "          dataTable['output_type'] = 'display_data';\n",
              "          await google.colab.output.renderOutput(dataTable, element);\n",
              "          const docLink = document.createElement('div');\n",
              "          docLink.innerHTML = docLinkHtml;\n",
              "          element.appendChild(docLink);\n",
              "        }\n",
              "      </script>\n",
              "    </div>\n",
              "  </div>\n",
              "  "
            ]
          },
          "metadata": {},
          "execution_count": 3
        }
      ]
    },
    {
      "cell_type": "code",
      "source": [
        "data_main['cellType'].value_counts()"
      ],
      "metadata": {
        "colab": {
          "base_uri": "https://localhost:8080/"
        },
        "id": "rQEpgx4L9Jga",
        "outputId": "1c8edc33-6c68-4a23-c671-2248993597a9"
      },
      "execution_count": 4,
      "outputs": [
        {
          "output_type": "execute_result",
          "data": {
            "text/plain": [
              "2    4079\n",
              "1    2543\n",
              "0    1888\n",
              "3    1386\n",
              "Name: cellType, dtype: int64"
            ]
          },
          "metadata": {},
          "execution_count": 4
        }
      ]
    },
    {
      "cell_type": "code",
      "source": [
        "data_main['cellType'] = data_main['cellType'].astype('str')"
      ],
      "metadata": {
        "id": "mGGliZ2RloKN"
      },
      "execution_count": 5,
      "outputs": []
    },
    {
      "cell_type": "markdown",
      "source": [
        "Splitting the Data"
      ],
      "metadata": {
        "id": "VMvGWk_2hqf2"
      }
    },
    {
      "cell_type": "code",
      "source": [
        "#Splitting data into train, test and validation\n",
        "train_data, test_data = train_test_split(data_main, test_size=0.2, random_state=0)\n",
        "train_data, val_data = train_test_split(train_data, test_size=0.25, random_state=0)\n",
        "\n",
        "print(\"Train data : {}, Val Data: {}, Test Data: {}\".format(train_data.shape[0], val_data.shape[0], test_data.shape[0]))"
      ],
      "metadata": {
        "colab": {
          "base_uri": "https://localhost:8080/"
        },
        "id": "ucPuQUDMltwf",
        "outputId": "a5779213-8669-4340-f46c-06b8e2edc9b8"
      },
      "execution_count": 6,
      "outputs": [
        {
          "output_type": "stream",
          "name": "stdout",
          "text": [
            "Train data : 5937, Val Data: 1979, Test Data: 1980\n"
          ]
        }
      ]
    },
    {
      "cell_type": "markdown",
      "source": [
        "# Baseline Model"
      ],
      "metadata": {
        "id": "f7Jq2fM3hs7c"
      }
    },
    {
      "cell_type": "code",
      "source": [
        "# Converting the data labels to string\n",
        "train_data['cellType'] = train_data['cellType'].astype('str')\n",
        "val_data['cellType'] = val_data['cellType'].astype('str')\n",
        "\n",
        "from tensorflow.keras.preprocessing.image import ImageDataGenerator\n",
        "\n",
        "# Real time data augmentation\n",
        "train_datagen = ImageDataGenerator(rescale=1./255, data_format='channels_last')\n",
        "val_datagen = ImageDataGenerator(rescale=1./255, data_format='channels_last')\n",
        "\n",
        "batch_size = 32\n",
        "\n",
        "train_generator_2 = train_datagen.flow_from_dataframe(\n",
        "        dataframe=train_data,\n",
        "        directory='/content/patch_images',\n",
        "        x_col=\"ImageName\",\n",
        "        y_col=\"cellType\",\n",
        "        target_size=(27, 27),\n",
        "        batch_size=batch_size,\n",
        "        class_mode='categorical')\n",
        "\n",
        "valid_generator_2 = val_datagen.flow_from_dataframe(\n",
        "        dataframe=val_data,\n",
        "        directory='/content/patch_images',\n",
        "        x_col=\"ImageName\",\n",
        "        y_col=\"cellType\",\n",
        "        target_size=(27, 27),\n",
        "        batch_size=batch_size,\n",
        "        class_mode='categorical')\n",
        "\n",
        "# test data generator for evaluating the performance of a previously trained model on a test dataset\n",
        "test_data['cellType'] = test_data['cellType'].astype('str')\n",
        "\n",
        "test_datagen = ImageDataGenerator(rescale=1./255, data_format='channels_last')\n",
        "\n",
        "batch_size = 32\n",
        "\n",
        "test_generator_2 = test_datagen.flow_from_dataframe(\n",
        "        dataframe=test_data,\n",
        "        directory='/content/patch_images',\n",
        "        x_col=\"ImageName\",\n",
        "        y_col=\"cellType\",\n",
        "        target_size=(27, 27),\n",
        "        batch_size=batch_size,\n",
        "        class_mode='categorical')"
      ],
      "metadata": {
        "colab": {
          "base_uri": "https://localhost:8080/"
        },
        "id": "-nGE3d8tpoKV",
        "outputId": "e6f8a133-5b55-443d-8505-9b8f2d9bd056"
      },
      "execution_count": 7,
      "outputs": [
        {
          "output_type": "stream",
          "name": "stdout",
          "text": [
            "Found 5937 validated image filenames belonging to 4 classes.\n",
            "Found 1979 validated image filenames belonging to 4 classes.\n",
            "Found 1980 validated image filenames belonging to 4 classes.\n"
          ]
        }
      ]
    },
    {
      "cell_type": "code",
      "source": [
        "#Setting dimensions and classes for the model\n",
        "INPUT_DIM = (27,27,3)\n",
        "HIDDEN_LAYER_DIM = 256\n",
        "OUTPUT_CLASSES = 4\n",
        "\n",
        "import tensorflow as tf\n",
        "\n",
        "#Creating new model and adding layers\n",
        "basemodel = tf.keras.Sequential([\n",
        "    tf.keras.layers.Flatten(input_shape=INPUT_DIM),\n",
        "    tf.keras.layers.Dense(HIDDEN_LAYER_DIM, activation='relu'),\n",
        "    tf.keras.layers.Dense(OUTPUT_CLASSES, activation='softmax')\n",
        "])\n",
        "\n",
        "basemodel.summary()\n",
        "\n"
      ],
      "metadata": {
        "colab": {
          "base_uri": "https://localhost:8080/"
        },
        "id": "VyA2sFQ8nkLo",
        "outputId": "fd2f2b47-372f-45db-dce8-2b91309690f3"
      },
      "execution_count": 9,
      "outputs": [
        {
          "output_type": "stream",
          "name": "stdout",
          "text": [
            "Model: \"sequential_1\"\n",
            "_________________________________________________________________\n",
            " Layer (type)                Output Shape              Param #   \n",
            "=================================================================\n",
            " flatten_1 (Flatten)         (None, 2187)              0         \n",
            "                                                                 \n",
            " dense_2 (Dense)             (None, 256)               560128    \n",
            "                                                                 \n",
            " dense_3 (Dense)             (None, 4)                 1028      \n",
            "                                                                 \n",
            "=================================================================\n",
            "Total params: 561,156\n",
            "Trainable params: 561,156\n",
            "Non-trainable params: 0\n",
            "_________________________________________________________________\n"
          ]
        }
      ]
    },
    {
      "cell_type": "code",
      "source": [
        "basemodel.compile(optimizer='SGD',\n",
        "                loss=tf.keras.losses.CategoricalCrossentropy(),\n",
        "                metrics=['accuracy'])"
      ],
      "metadata": {
        "id": "KQtQ-XOc9mkv"
      },
      "execution_count": 10,
      "outputs": []
    },
    {
      "cell_type": "code",
      "source": [
        "history_3 = basemodel.fit(train_generator_2, validation_data = valid_generator_2, epochs=10)"
      ],
      "metadata": {
        "colab": {
          "base_uri": "https://localhost:8080/"
        },
        "id": "CdvP5pIJpvv0",
        "outputId": "7883720e-ef30-4a47-bf8b-99026cd2442c"
      },
      "execution_count": 11,
      "outputs": [
        {
          "output_type": "stream",
          "name": "stdout",
          "text": [
            "Epoch 1/10\n",
            "186/186 [==============================] - 8s 16ms/step - loss: 1.2966 - accuracy: 0.4413 - val_loss: 1.1932 - val_accuracy: 0.4199\n",
            "Epoch 2/10\n",
            "186/186 [==============================] - 4s 20ms/step - loss: 1.0795 - accuracy: 0.5582 - val_loss: 0.9346 - val_accuracy: 0.6281\n",
            "Epoch 3/10\n",
            "186/186 [==============================] - 3s 15ms/step - loss: 1.0099 - accuracy: 0.5883 - val_loss: 0.9209 - val_accuracy: 0.6013\n",
            "Epoch 4/10\n",
            "186/186 [==============================] - 3s 15ms/step - loss: 0.9464 - accuracy: 0.6195 - val_loss: 0.8607 - val_accuracy: 0.6337\n",
            "Epoch 5/10\n",
            "186/186 [==============================] - 4s 21ms/step - loss: 0.9127 - accuracy: 0.6321 - val_loss: 0.8923 - val_accuracy: 0.6230\n",
            "Epoch 6/10\n",
            "186/186 [==============================] - 3s 16ms/step - loss: 0.8925 - accuracy: 0.6439 - val_loss: 0.9076 - val_accuracy: 0.6256\n",
            "Epoch 7/10\n",
            "186/186 [==============================] - 3s 15ms/step - loss: 0.8530 - accuracy: 0.6641 - val_loss: 0.8449 - val_accuracy: 0.6625\n",
            "Epoch 8/10\n",
            "186/186 [==============================] - 3s 18ms/step - loss: 0.8541 - accuracy: 0.6584 - val_loss: 0.7730 - val_accuracy: 0.7084\n",
            "Epoch 9/10\n",
            "186/186 [==============================] - 5s 28ms/step - loss: 0.8523 - accuracy: 0.6668 - val_loss: 0.8433 - val_accuracy: 0.6680\n",
            "Epoch 10/10\n",
            "186/186 [==============================] - 5s 24ms/step - loss: 0.8300 - accuracy: 0.6756 - val_loss: 0.7703 - val_accuracy: 0.7004\n"
          ]
        }
      ]
    },
    {
      "cell_type": "markdown",
      "source": [
        "# Evaluation, Learning Curve and Metrics"
      ],
      "metadata": {
        "id": "rdcJ-ovCivRe"
      }
    },
    {
      "cell_type": "code",
      "source": [
        "basemodel.evaluate(train_generator_2)\n",
        "basemodel.evaluate(test_generator_2)\n",
        "basemodel.evaluate(valid_generator_2)"
      ],
      "metadata": {
        "colab": {
          "base_uri": "https://localhost:8080/"
        },
        "id": "6xtY7x2Wp9gM",
        "outputId": "c217ab01-fc28-4a17-c825-39463981c1fd"
      },
      "execution_count": 12,
      "outputs": [
        {
          "output_type": "stream",
          "name": "stdout",
          "text": [
            "186/186 [==============================] - 2s 11ms/step - loss: 0.7640 - accuracy: 0.6965\n",
            "62/62 [==============================] - 1s 13ms/step - loss: 0.8035 - accuracy: 0.6874\n",
            "62/62 [==============================] - 1s 16ms/step - loss: 0.7703 - accuracy: 0.7004\n"
          ]
        },
        {
          "output_type": "execute_result",
          "data": {
            "text/plain": [
              "[0.7703452110290527, 0.700353741645813]"
            ]
          },
          "metadata": {},
          "execution_count": 12
        }
      ]
    },
    {
      "cell_type": "code",
      "source": [
        "def plot_learning_curve(train_loss, val_loss, train_metric, val_metric, metric_name='Accuracy'):\n",
        "    plt.figure(figsize=(6,3))\n",
        "    \n",
        "    plt.subplot(1,2,1)\n",
        "    plt.plot(train_loss, 'r--')\n",
        "    plt.plot(val_loss, 'b--')\n",
        "    plt.xlabel(\"epochs\")\n",
        "    plt.ylabel(\"Loss\")\n",
        "    plt.legend(['train', 'val'], loc='upper left')\n",
        "\n",
        "    plt.subplot(1,2,2)\n",
        "    plt.plot(train_metric, 'r--')\n",
        "    plt.plot(val_metric, 'b--')\n",
        "    plt.xlabel(\"epochs\")\n",
        "    plt.ylabel(metric_name)\n",
        "    plt.legend(['train', 'val'], loc='upper left')\n",
        "\n",
        "    plt.show()"
      ],
      "metadata": {
        "id": "xO0__q3qrBqm"
      },
      "execution_count": 13,
      "outputs": []
    },
    {
      "cell_type": "code",
      "source": [
        "plot_learning_curve(history_3.history['loss'],history_3.history['val_loss'], \n",
        "                    history_3.history['accuracy'], history_3.history['val_accuracy'], \n",
        "                    metric_name='Accuracy')"
      ],
      "metadata": {
        "colab": {
          "base_uri": "https://localhost:8080/",
          "height": 311
        },
        "id": "jk2pvhGUs0zf",
        "outputId": "5acfd714-7cc8-4b2b-e0ba-cae201a54fae"
      },
      "execution_count": 14,
      "outputs": [
        {
          "output_type": "display_data",
          "data": {
            "text/plain": [
              "<Figure size 600x300 with 2 Axes>"
            ],
            "image/png": "[encoded data removed]"
          },
          "metadata": {}
        }
      ]
    },
    {
      "cell_type": "code",
      "source": [
        "from sklearn.metrics import classification_report\n",
        "import numpy as np\n",
        "\n",
        "# Assuming valid_generator is your data generator\n",
        "y_true = test_generator_2.classes  # True class labels\n",
        "y_pred_prob = basemodel.predict(test_generator_2)  # Predicted probabilities for each class\n",
        "\n",
        "# Convert probabilities to class labels\n",
        "y_pred = np.argmax(y_pred_prob, axis=1)\n",
        "\n",
        "# Compute the classification report\n",
        "report = classification_report(y_true, y_pred)\n",
        "print(report)\n"
      ],
      "metadata": {
        "id": "6aHU5EDas23A",
        "colab": {
          "base_uri": "https://localhost:8080/"
        },
        "outputId": "00e20dd3-fa83-416f-8a27-479d1253616a"
      },
      "execution_count": 15,
      "outputs": [
        {
          "output_type": "stream",
          "name": "stdout",
          "text": [
            "62/62 [==============================] - 1s 14ms/step\n",
            "              precision    recall  f1-score   support\n",
            "\n",
            "           0       0.20      0.15      0.17       372\n",
            "           1       0.24      0.34      0.28       504\n",
            "           2       0.43      0.50      0.46       803\n",
            "           3       0.11      0.02      0.03       301\n",
            "\n",
            "    accuracy                           0.32      1980\n",
            "   macro avg       0.24      0.25      0.24      1980\n",
            "weighted avg       0.29      0.32      0.30      1980\n",
            "\n"
          ]
        }
      ]
    },
    {
      "cell_type": "markdown",
      "source": [
        "#**Performing data augmentation on train data to balance the binary classes**"
      ],
      "metadata": {
        "id": "VjGTrO9HSlr7"
      }
    },
    {
      "cell_type": "code",
      "source": [
        "data = pd.read_csv('/content/data_labels_mainData.csv')\n",
        "data = data[['ImageName', 'cellType']]\n"
      ],
      "metadata": {
        "id": "wPV2er71SomD"
      },
      "execution_count": 16,
      "outputs": []
    },
    {
      "cell_type": "code",
      "source": [
        "train_data, test_data = train_test_split(data, test_size=0.1, random_state=42,stratify= data['cellType'])"
      ],
      "metadata": {
        "id": "mPKgw-L6TJEa"
      },
      "execution_count": 17,
      "outputs": []
    },
    {
      "cell_type": "code",
      "source": [
        "test_data"
      ],
      "metadata": {
        "colab": {
          "base_uri": "https://localhost:8080/",
          "height": 423
        },
        "id": "t2ShDffoa-N9",
        "outputId": "cf85878f-32ad-440a-dde1-9dc8106082e2"
      },
      "execution_count": 18,
      "outputs": [
        {
          "output_type": "execute_result",
          "data": {
            "text/plain": [
              "      ImageName  cellType\n",
              "856    9162.png         1\n",
              "9122  12135.png         2\n",
              "359     181.png         1\n",
              "8299   3653.png         2\n",
              "2645  18326.png         0\n",
              "...         ...       ...\n",
              "7491    674.png         0\n",
              "5832  19889.png         1\n",
              "9131  12147.png         2\n",
              "108   18872.png         1\n",
              "6846   4024.png         2\n",
              "\n",
              "[990 rows x 2 columns]"
            ],
            "text/html": [
              "\n",
              "  <div id=\"df-0bc163fa-2103-4b9d-a0de-1662bc98e287\">\n",
              "    <div class=\"colab-df-container\">\n",
              "      <div>\n",
              "<style scoped>\n",
              "    .dataframe tbody tr th:only-of-type {\n",
              "        vertical-align: middle;\n",
              "    }\n",
              "\n",
              "    .dataframe tbody tr th {\n",
              "        vertical-align: top;\n",
              "    }\n",
              "\n",
              "    .dataframe thead th {\n",
              "        text-align: right;\n",
              "    }\n",
              "</style>\n",
              "<table border=\"1\" class=\"dataframe\">\n",
              "  <thead>\n",
              "    <tr style=\"text-align: right;\">\n",
              "      <th></th>\n",
              "      <th>ImageName</th>\n",
              "      <th>cellType</th>\n",
              "    </tr>\n",
              "  </thead>\n",
              "  <tbody>\n",
              "    <tr>\n",
              "      <th>856</th>\n",
              "      <td>9162.png</td>\n",
              "      <td>1</td>\n",
              "    </tr>\n",
              "    <tr>\n",
              "      <th>9122</th>\n",
              "      <td>12135.png</td>\n",
              "      <td>2</td>\n",
              "    </tr>\n",
              "    <tr>\n",
              "      <th>359</th>\n",
              "      <td>181.png</td>\n",
              "      <td>1</td>\n",
              "    </tr>\n",
              "    <tr>\n",
              "      <th>8299</th>\n",
              "      <td>3653.png</td>\n",
              "      <td>2</td>\n",
              "    </tr>\n",
              "    <tr>\n",
              "      <th>2645</th>\n",
              "      <td>18326.png</td>\n",
              "      <td>0</td>\n",
              "    </tr>\n",
              "    <tr>\n",
              "      <th>...</th>\n",
              "      <td>...</td>\n",
              "      <td>...</td>\n",
              "    </tr>\n",
              "    <tr>\n",
              "      <th>7491</th>\n",
              "      <td>674.png</td>\n",
              "      <td>0</td>\n",
              "    </tr>\n",
              "    <tr>\n",
              "      <th>5832</th>\n",
              "      <td>19889.png</td>\n",
              "      <td>1</td>\n",
              "    </tr>\n",
              "    <tr>\n",
              "      <th>9131</th>\n",
              "      <td>12147.png</td>\n",
              "      <td>2</td>\n",
              "    </tr>\n",
              "    <tr>\n",
              "      <th>108</th>\n",
              "      <td>18872.png</td>\n",
              "      <td>1</td>\n",
              "    </tr>\n",
              "    <tr>\n",
              "      <th>6846</th>\n",
              "      <td>4024.png</td>\n",
              "      <td>2</td>\n",
              "    </tr>\n",
              "  </tbody>\n",
              "</table>\n",
              "<p>990 rows × 2 columns</p>\n",
              "</div>\n",
              "      <button class=\"colab-df-convert\" onclick=\"convertToInteractive('df-0bc163fa-2103-4b9d-a0de-1662bc98e287')\"\n",
              "              title=\"Convert this dataframe to an interactive table.\"\n",
              "              style=\"display:none;\">\n",
              "        \n",
              "  <svg xmlns=\"http://www.w3.org/2000/svg\" height=\"24px\"viewBox=\"0 0 24 24\"\n",
              "       width=\"24px\">\n",
              "    <path d=\"M0 0h24v24H0V0z\" fill=\"none\"/>\n",
              "    <path d=\"M18.56 5.44l.94 2.06.94-2.06 2.06-.94-2.06-.94-.94-2.06-.94 2.06-2.06.94zm-11 1L8.5 8.5l.94-2.06 2.06-.94-2.06-.94L8.5 2.5l-.94 2.06-2.06.94zm10 10l.94 2.06.94-2.06 2.06-.94-2.06-.94-.94-2.06-.94 2.06-2.06.94z\"/><path d=\"M17.41 7.96l-1.37-1.37c-.4-.4-.92-.59-1.43-.59-.52 0-1.04.2-1.43.59L10.3 9.45l-7.72 7.72c-.78.78-.78 2.05 0 2.83L4 21.41c.39.39.9.59 1.41.59.51 0 1.02-.2 1.41-.59l7.78-7.78 2.81-2.81c.8-.78.8-2.07 0-2.86zM5.41 20L4 18.59l7.72-7.72 1.47 1.35L5.41 20z\"/>\n",
              "  </svg>\n",
              "      </button>\n",
              "      \n",
              "  <style>\n",
              "    .colab-df-container {\n",
              "      display:flex;\n",
              "      flex-wrap:wrap;\n",
              "      gap: 12px;\n",
              "    }\n",
              "\n",
              "    .colab-df-convert {\n",
              "      background-color: #E8F0FE;\n",
              "      border: none;\n",
              "      border-radius: 50%;\n",
              "      cursor: pointer;\n",
              "      display: none;\n",
              "      fill: #1967D2;\n",
              "      height: 32px;\n",
              "      padding: 0 0 0 0;\n",
              "      width: 32px;\n",
              "    }\n",
              "\n",
              "    .colab-df-convert:hover {\n",
              "      background-color: #E2EBFA;\n",
              "      box-shadow: 0px 1px 2px rgba(60, 64, 67, 0.3), 0px 1px 3px 1px rgba(60, 64, 67, 0.15);\n",
              "      fill: #174EA6;\n",
              "    }\n",
              "\n",
              "    [theme=dark] .colab-df-convert {\n",
              "      background-color: #3B4455;\n",
              "      fill: #D2E3FC;\n",
              "    }\n",
              "\n",
              "    [theme=dark] .colab-df-convert:hover {\n",
              "      background-color: #434B5C;\n",
              "      box-shadow: 0px 1px 3px 1px rgba(0, 0, 0, 0.15);\n",
              "      filter: drop-shadow(0px 1px 2px rgba(0, 0, 0, 0.3));\n",
              "      fill: #FFFFFF;\n",
              "    }\n",
              "  </style>\n",
              "\n",
              "      <script>\n",
              "        const buttonEl =\n",
              "          document.querySelector('#df-0bc163fa-2103-4b9d-a0de-1662bc98e287 button.colab-df-convert');\n",
              "        buttonEl.style.display =\n",
              "          google.colab.kernel.accessAllowed ? 'block' : 'none';\n",
              "\n",
              "        async function convertToInteractive(key) {\n",
              "          const element = document.querySelector('#df-0bc163fa-2103-4b9d-a0de-1662bc98e287');\n",
              "          const dataTable =\n",
              "            await google.colab.kernel.invokeFunction('convertToInteractive',\n",
              "                                                     [key], {});\n",
              "          if (!dataTable) return;\n",
              "\n",
              "          const docLinkHtml = 'Like what you see? Visit the ' +\n",
              "            '<a target=\"_blank\" href=https://colab.research.google.com/notebooks/data_table.ipynb>data table notebook</a>'\n",
              "            + ' to learn more about interactive tables.';\n",
              "          element.innerHTML = '';\n",
              "          dataTable['output_type'] = 'display_data';\n",
              "          await google.colab.output.renderOutput(dataTable, element);\n",
              "          const docLink = document.createElement('div');\n",
              "          docLink.innerHTML = docLinkHtml;\n",
              "          element.appendChild(docLink);\n",
              "        }\n",
              "      </script>\n",
              "    </div>\n",
              "  </div>\n",
              "  "
            ]
          },
          "metadata": {},
          "execution_count": 18
        }
      ]
    },
    {
      "cell_type": "code",
      "source": [
        "test_data['cellType'].value_counts()"
      ],
      "metadata": {
        "colab": {
          "base_uri": "https://localhost:8080/"
        },
        "id": "jiq_GfKmTSIK",
        "outputId": "a59bf6f1-5ef2-4476-a988-98d363da8020"
      },
      "execution_count": 19,
      "outputs": [
        {
          "output_type": "execute_result",
          "data": {
            "text/plain": [
              "2    408\n",
              "1    254\n",
              "0    189\n",
              "3    139\n",
              "Name: cellType, dtype: int64"
            ]
          },
          "metadata": {},
          "execution_count": 19
        }
      ]
    },
    {
      "cell_type": "code",
      "source": [
        "train_data['cellType'].value_counts()"
      ],
      "metadata": {
        "colab": {
          "base_uri": "https://localhost:8080/"
        },
        "id": "jZbwSHkLTTEJ",
        "outputId": "8041dc18-6647-4f4e-e7fb-8360495b36f9"
      },
      "execution_count": 20,
      "outputs": [
        {
          "output_type": "execute_result",
          "data": {
            "text/plain": [
              "2    3671\n",
              "1    2289\n",
              "0    1699\n",
              "3    1247\n",
              "Name: cellType, dtype: int64"
            ]
          },
          "metadata": {},
          "execution_count": 20
        }
      ]
    },
    {
      "cell_type": "code",
      "source": [
        "train_df = train_data"
      ],
      "metadata": {
        "id": "9JlePI7JVRc8"
      },
      "execution_count": 21,
      "outputs": []
    },
    {
      "cell_type": "code",
      "source": [
        "train_df.head()"
      ],
      "metadata": {
        "colab": {
          "base_uri": "https://localhost:8080/",
          "height": 206
        },
        "id": "z_Gulp2gWJb7",
        "outputId": "7cb0d312-25e2-4da5-f941-efb1fde52118"
      },
      "execution_count": 22,
      "outputs": [
        {
          "output_type": "execute_result",
          "data": {
            "text/plain": [
              "      ImageName  cellType\n",
              "1702  13444.png         1\n",
              "4611  16714.png         3\n",
              "5790  19846.png         1\n",
              "6982   1294.png         3\n",
              "5423  11785.png         2"
            ],
            "text/html": [
              "\n",
              "  <div id=\"df-a20a375e-e9d4-43b4-9b55-be5ae1b0654d\">\n",
              "    <div class=\"colab-df-container\">\n",
              "      <div>\n",
              "<style scoped>\n",
              "    .dataframe tbody tr th:only-of-type {\n",
              "        vertical-align: middle;\n",
              "    }\n",
              "\n",
              "    .dataframe tbody tr th {\n",
              "        vertical-align: top;\n",
              "    }\n",
              "\n",
              "    .dataframe thead th {\n",
              "        text-align: right;\n",
              "    }\n",
              "</style>\n",
              "<table border=\"1\" class=\"dataframe\">\n",
              "  <thead>\n",
              "    <tr style=\"text-align: right;\">\n",
              "      <th></th>\n",
              "      <th>ImageName</th>\n",
              "      <th>cellType</th>\n",
              "    </tr>\n",
              "  </thead>\n",
              "  <tbody>\n",
              "    <tr>\n",
              "      <th>1702</th>\n",
              "      <td>13444.png</td>\n",
              "      <td>1</td>\n",
              "    </tr>\n",
              "    <tr>\n",
              "      <th>4611</th>\n",
              "      <td>16714.png</td>\n",
              "      <td>3</td>\n",
              "    </tr>\n",
              "    <tr>\n",
              "      <th>5790</th>\n",
              "      <td>19846.png</td>\n",
              "      <td>1</td>\n",
              "    </tr>\n",
              "    <tr>\n",
              "      <th>6982</th>\n",
              "      <td>1294.png</td>\n",
              "      <td>3</td>\n",
              "    </tr>\n",
              "    <tr>\n",
              "      <th>5423</th>\n",
              "      <td>11785.png</td>\n",
              "      <td>2</td>\n",
              "    </tr>\n",
              "  </tbody>\n",
              "</table>\n",
              "</div>\n",
              "      <button class=\"colab-df-convert\" onclick=\"convertToInteractive('df-a20a375e-e9d4-43b4-9b55-be5ae1b0654d')\"\n",
              "              title=\"Convert this dataframe to an interactive table.\"\n",
              "              style=\"display:none;\">\n",
              "        \n",
              "  <svg xmlns=\"http://www.w3.org/2000/svg\" height=\"24px\"viewBox=\"0 0 24 24\"\n",
              "       width=\"24px\">\n",
              "    <path d=\"M0 0h24v24H0V0z\" fill=\"none\"/>\n",
              "    <path d=\"M18.56 5.44l.94 2.06.94-2.06 2.06-.94-2.06-.94-.94-2.06-.94 2.06-2.06.94zm-11 1L8.5 8.5l.94-2.06 2.06-.94-2.06-.94L8.5 2.5l-.94 2.06-2.06.94zm10 10l.94 2.06.94-2.06 2.06-.94-2.06-.94-.94-2.06-.94 2.06-2.06.94z\"/><path d=\"M17.41 7.96l-1.37-1.37c-.4-.4-.92-.59-1.43-.59-.52 0-1.04.2-1.43.59L10.3 9.45l-7.72 7.72c-.78.78-.78 2.05 0 2.83L4 21.41c.39.39.9.59 1.41.59.51 0 1.02-.2 1.41-.59l7.78-7.78 2.81-2.81c.8-.78.8-2.07 0-2.86zM5.41 20L4 18.59l7.72-7.72 1.47 1.35L5.41 20z\"/>\n",
              "  </svg>\n",
              "      </button>\n",
              "      \n",
              "  <style>\n",
              "    .colab-df-container {\n",
              "      display:flex;\n",
              "      flex-wrap:wrap;\n",
              "      gap: 12px;\n",
              "    }\n",
              "\n",
              "    .colab-df-convert {\n",
              "      background-color: #E8F0FE;\n",
              "      border: none;\n",
              "      border-radius: 50%;\n",
              "      cursor: pointer;\n",
              "      display: none;\n",
              "      fill: #1967D2;\n",
              "      height: 32px;\n",
              "      padding: 0 0 0 0;\n",
              "      width: 32px;\n",
              "    }\n",
              "\n",
              "    .colab-df-convert:hover {\n",
              "      background-color: #E2EBFA;\n",
              "      box-shadow: 0px 1px 2px rgba(60, 64, 67, 0.3), 0px 1px 3px 1px rgba(60, 64, 67, 0.15);\n",
              "      fill: #174EA6;\n",
              "    }\n",
              "\n",
              "    [theme=dark] .colab-df-convert {\n",
              "      background-color: #3B4455;\n",
              "      fill: #D2E3FC;\n",
              "    }\n",
              "\n",
              "    [theme=dark] .colab-df-convert:hover {\n",
              "      background-color: #434B5C;\n",
              "      box-shadow: 0px 1px 3px 1px rgba(0, 0, 0, 0.15);\n",
              "      filter: drop-shadow(0px 1px 2px rgba(0, 0, 0, 0.3));\n",
              "      fill: #FFFFFF;\n",
              "    }\n",
              "  </style>\n",
              "\n",
              "      <script>\n",
              "        const buttonEl =\n",
              "          document.querySelector('#df-a20a375e-e9d4-43b4-9b55-be5ae1b0654d button.colab-df-convert');\n",
              "        buttonEl.style.display =\n",
              "          google.colab.kernel.accessAllowed ? 'block' : 'none';\n",
              "\n",
              "        async function convertToInteractive(key) {\n",
              "          const element = document.querySelector('#df-a20a375e-e9d4-43b4-9b55-be5ae1b0654d');\n",
              "          const dataTable =\n",
              "            await google.colab.kernel.invokeFunction('convertToInteractive',\n",
              "                                                     [key], {});\n",
              "          if (!dataTable) return;\n",
              "\n",
              "          const docLinkHtml = 'Like what you see? Visit the ' +\n",
              "            '<a target=\"_blank\" href=https://colab.research.google.com/notebooks/data_table.ipynb>data table notebook</a>'\n",
              "            + ' to learn more about interactive tables.';\n",
              "          element.innerHTML = '';\n",
              "          dataTable['output_type'] = 'display_data';\n",
              "          await google.colab.output.renderOutput(dataTable, element);\n",
              "          const docLink = document.createElement('div');\n",
              "          docLink.innerHTML = docLinkHtml;\n",
              "          element.appendChild(docLink);\n",
              "        }\n",
              "      </script>\n",
              "    </div>\n",
              "  </div>\n",
              "  "
            ]
          },
          "metadata": {},
          "execution_count": 22
        }
      ]
    },
    {
      "cell_type": "code",
      "source": [
        "import pandas as pd\n",
        "\n",
        "# Assuming you have a DataFrame called 'df' with columns 'ImageName' and 'Class'\n",
        "\n",
        "# Group the DataFrame by 'Class'\n",
        "grouped_df = train_data.groupby('cellType')\n",
        "\n",
        "# Create empty dictionaries to store the separated DataFrames\n",
        "class_dfs = {}\n",
        "\n",
        "# Iterate over the groups and create separate DataFrames for each class\n",
        "for class_label, group in grouped_df:\n",
        "    class_dfs[class_label] = group.drop('cellType', axis=1).copy()\n",
        "\n",
        "# Access the separated DataFrames using the class label as the key\n",
        "class0_df = class_dfs[0]\n",
        "class1_df = class_dfs[1]\n",
        "class2_df = class_dfs[2]\n",
        "class3_df = class_dfs[3]"
      ],
      "metadata": {
        "id": "Ln4Yik3ycwMa"
      },
      "execution_count": 23,
      "outputs": []
    },
    {
      "cell_type": "markdown",
      "source": [
        "##Data augmentation"
      ],
      "metadata": {
        "id": "Nr2MSv9RVAkQ"
      }
    },
    {
      "cell_type": "code",
      "source": [
        "# all the augmented images are stored in different floder so moving those folders into one folder \n",
        "\n",
        "import shutil\n",
        "\n",
        "def move_augmented_files(source_dir, destination_dir):\n",
        "    os.makedirs(destination_dir, exist_ok=True)\n",
        "\n",
        "    for file_name in os.listdir(source_dir):\n",
        "        if file_name.startswith(\"augmented\"):\n",
        "            source_path = os.path.join(source_dir, file_name)\n",
        "            destination_path = os.path.join(destination_dir, file_name)\n",
        "            shutil.move(source_path, destination_path)"
      ],
      "metadata": {
        "id": "Qwx4SsVrkleF"
      },
      "execution_count": 24,
      "outputs": []
    },
    {
      "cell_type": "code",
      "source": [
        "import os\n",
        "import pandas as pd\n",
        "import numpy as np\n",
        "from PIL import Image\n",
        "from keras.preprocessing.image import ImageDataGenerator\n",
        "\n",
        "def augment_data(df, output_dir, num_augmentations=1):\n",
        "    datagen = ImageDataGenerator(\n",
        "    rotation_range=30,\n",
        "    zoom_range=0.2,\n",
        "    width_shift_range=0.2,\n",
        "    height_shift_range=0.2,\n",
        "    horizontal_flip=True,\n",
        "    fill_mode='nearest'\n",
        ")\n",
        "\n",
        "    augmented_image_paths = []\n",
        "\n",
        "    for _, row in df.iterrows():\n",
        "        image_name = row['ImageName']\n",
        "        image_path = os.path.join(image_base_folder, image_name)\n",
        "\n",
        "        # Load the image\n",
        "        img = Image.open(image_path)\n",
        "        img = img.resize((27, 27))\n",
        "\n",
        "        # Get the file name without extension\n",
        "        file_name = os.path.splitext(image_name)[0]\n",
        "\n",
        "        # Perform data augmentation\n",
        "        img_arr = np.array(img)\n",
        "        img_arr = np.expand_dims(img_arr, axis=0)  # Add batch dimension for data generator\n",
        "\n",
        "        datagen.fit(img_arr)\n",
        "\n",
        "        augmented_image_name = f\"augmented_{os.path.splitext(os.path.basename(image_path))[0]}.png\"\n",
        "        augmented_image_path = os.path.join(output_dir, augmented_image_name)\n",
        "\n",
        "        for i, batch in enumerate(datagen.flow(img_arr, batch_size=1, save_to_dir=output_dir, save_prefix='', save_format='png')):\n",
        "            augmented_image_temp_path = os.path.join(output_dir, f\"temp_augmented_{i}.png\")\n",
        "            Image.fromarray(batch[0].astype(np.uint8)).save(augmented_image_temp_path)\n",
        "            os.rename(augmented_image_temp_path, augmented_image_path)\n",
        "            augmented_image_paths.append(augmented_image_path)\n",
        "            break  # Generate only one augmented image per original image\n",
        "\n",
        "            if i >= num_augmentations - 1:\n",
        "                break  # Stop after generating the specified number of augmented images\n",
        "\n",
        "    return augmented_image_paths\n",
        "\n",
        "# Define your DataFrame 'df' with the 'ImageName' column\n",
        " \n",
        "# Determine the number of augmented images to create based on the multiplier\n"
      ],
      "metadata": {
        "id": "qJC31kpOVF4j"
      },
      "execution_count": 25,
      "outputs": []
    },
    {
      "cell_type": "markdown",
      "source": [
        "## class 0 "
      ],
      "metadata": {
        "id": "PD86G8JOylmF"
      }
    },
    {
      "cell_type": "code",
      "source": [
        "# Define the base path to the folder containing the images\n",
        "image_base_folder = \"/content/patch_images\"\n",
        "\n",
        "# Define the paths to the augmented dataset\n",
        "augmented_dir = \"/content/augmented_dataset10\"\n",
        "augmented_image_dir = os.path.join(augmented_dir)\n",
        "\n",
        "# Create the augmented dataset directories if they don't exist\n",
        "os.makedirs(augmented_image_dir, exist_ok=True)\n",
        "# Data augmentation parameters\n",
        "\n",
        "\n",
        "multiplier = 2  # Set the desired augmentation factor\n",
        "num_augmentations = len(class0_df) * multiplier\n",
        "\n",
        "# Perform data augmentation and get the augmented image names\n",
        "augmented_image_paths = augment_data(class0_df, augmented_dir, num_augmentations)\n",
        "\n",
        "# Update the 'ImageName' column with augmented image names\n",
        "augmented_df = pd.DataFrame({'ImageName': [os.path.basename(image_path) for image_path in augmented_image_paths]})\n",
        "\n",
        "# Concatenate the augmented DataFrame with the original majority class DataFrame\n",
        "\n",
        "# Update the original DataFrame with the augmented image names and class labels\n",
        "class0_df  = pd.concat([class0_df, augmented_df], ignore_index=True)\n",
        "\n",
        "move_augmented_files(augmented_dir, image_base_folder)"
      ],
      "metadata": {
        "id": "Bq9X8krAxzl_"
      },
      "execution_count": 26,
      "outputs": []
    },
    {
      "cell_type": "code",
      "source": [
        "multiplier = 2  # Set the desired augmentation factor\n",
        "num_augmentations = len(class0_df) * multiplier\n",
        "\n",
        "# Perform data augmentation and get the augmented image names\n",
        "augmented_image_paths = augment_data(class0_df, augmented_dir, num_augmentations)\n",
        "\n",
        "# Update the 'ImageName' column with augmented image names\n",
        "augmented_df = pd.DataFrame({'ImageName': [os.path.basename(image_path) for image_path in augmented_image_paths]})\n",
        "\n",
        "# Concatenate the augmented DataFrame with the original majority class DataFrame\n",
        "\n",
        "# Update the original DataFrame with the augmented image names and class labels\n",
        "class0_df  = pd.concat([class0_df, augmented_df], ignore_index=True)\n",
        "\n",
        "move_augmented_files(augmented_dir, image_base_folder)"
      ],
      "metadata": {
        "id": "ssJeE8LAxSvN"
      },
      "execution_count": 27,
      "outputs": []
    },
    {
      "cell_type": "markdown",
      "source": [
        "## Class 1"
      ],
      "metadata": {
        "id": "IKdSbP46yr0Y"
      }
    },
    {
      "cell_type": "code",
      "source": [
        "multiplier = 2  # Set the desired augmentation factor\n",
        "num_augmentations = len(class1_df) * multiplier\n",
        "\n",
        "# Perform data augmentation and get the augmented image names\n",
        "augmented_image_paths = augment_data(class1_df, augmented_dir, num_augmentations)\n",
        "\n",
        "# Update the 'ImageName' column with augmented image names\n",
        "augmented_df = pd.DataFrame({'ImageName': [os.path.basename(image_path) for image_path in augmented_image_paths]})\n",
        "\n",
        "# Concatenate the augmented DataFrame with the original majority class DataFrame\n",
        "\n",
        "# Update the original DataFrame with the augmented image names and class labels\n",
        "class1_1_df  = pd.concat([class1_df, augmented_df], ignore_index=True)\n",
        "\n",
        "move_augmented_files(augmented_dir, image_base_folder)"
      ],
      "metadata": {
        "id": "SojsXW_iyv4H"
      },
      "execution_count": 28,
      "outputs": []
    },
    {
      "cell_type": "code",
      "source": [
        "class1_df  = pd.concat([class1_df, class1_1_df], ignore_index=True)"
      ],
      "metadata": {
        "id": "-dH8N7bqzBUk"
      },
      "execution_count": 29,
      "outputs": []
    },
    {
      "cell_type": "markdown",
      "source": [
        "## Class 2"
      ],
      "metadata": {
        "id": "7vkJOkYXzKyF"
      }
    },
    {
      "cell_type": "code",
      "source": [
        "multiplier = 2  # Set the desired augmentation factor\n",
        "num_augmentations = len(class2_df) * multiplier\n",
        "\n",
        "# Perform data augmentation and get the augmented image names\n",
        "augmented_image_paths = augment_data(class2_df, augmented_dir, num_augmentations)\n",
        "\n",
        "# Update the 'ImageName' column with augmented image names\n",
        "augmented_df = pd.DataFrame({'ImageName': [os.path.basename(image_path) for image_path in augmented_image_paths]})\n",
        "\n",
        "# Concatenate the augmented DataFrame with the original majority class DataFrame\n",
        "\n",
        "# Update the original DataFrame with the augmented image names and class labels\n",
        "class2_df  = pd.concat([class2_df, augmented_df], ignore_index=True)\n",
        "\n",
        "move_augmented_files(augmented_dir, image_base_folder)"
      ],
      "metadata": {
        "id": "XWA89QG_zM24"
      },
      "execution_count": 30,
      "outputs": []
    },
    {
      "cell_type": "markdown",
      "source": [
        "## Class 3"
      ],
      "metadata": {
        "id": "M2v9N29M4fVY"
      }
    },
    {
      "cell_type": "code",
      "source": [
        "multiplier = 2  # Set the desired augmentation factor\n",
        "num_augmentations = len(class3_df) * multiplier\n",
        "\n",
        "# Perform data augmentation and get the augmented image names\n",
        "augmented_image_paths = augment_data(class3_df, augmented_dir, num_augmentations)\n",
        "\n",
        "# Update the 'ImageName' column with augmented image names\n",
        "augmented_df = pd.DataFrame({'ImageName': [os.path.basename(image_path) for image_path in augmented_image_paths]})\n",
        "\n",
        "# Concatenate the augmented DataFrame with the original majority class DataFrame\n",
        "\n",
        "# Update the original DataFrame with the augmented image names and class labels\n",
        "class3_3_df  = pd.concat([class3_df, augmented_df], ignore_index=True)\n",
        "\n",
        "move_augmented_files(augmented_dir, image_base_folder)"
      ],
      "metadata": {
        "id": "dAT0AwKmzVu4"
      },
      "execution_count": 31,
      "outputs": []
    },
    {
      "cell_type": "code",
      "source": [
        "multiplier = 2  # Set the desired augmentation factor\n",
        "num_augmentations = len(class3_3_df) * multiplier\n",
        "\n",
        "# Perform data augmentation and get the augmented image names\n",
        "augmented_image_paths = augment_data(class3_3_df, augmented_dir, num_augmentations)\n",
        "\n",
        "# Update the 'ImageName' column with augmented image names\n",
        "augmented_df = pd.DataFrame({'ImageName': [os.path.basename(image_path) for image_path in augmented_image_paths]})\n",
        "\n",
        "# Concatenate the augmented DataFrame with the original majority class DataFrame\n",
        "\n",
        "# Update the original DataFrame with the augmented image names and class labels\n",
        "class3_3_3_df  = pd.concat([class3_3_df, augmented_df], ignore_index=True)\n",
        "\n",
        "move_augmented_files(augmented_dir, image_base_folder)"
      ],
      "metadata": {
        "id": "p0kUh27zzcbL"
      },
      "execution_count": 32,
      "outputs": []
    },
    {
      "cell_type": "code",
      "source": [
        "class3_df  = pd.concat([class3_3_3_df, class3_df], ignore_index=True)"
      ],
      "metadata": {
        "id": "QPPRIvN5zy-7"
      },
      "execution_count": 33,
      "outputs": []
    },
    {
      "cell_type": "code",
      "source": [
        "class0_df['cellType'] = '0'\n",
        "class1_df['cellType'] = '1'\n",
        "class2_df['cellType'] = '2'\n",
        "class3_df['cellType'] = '3'\n",
        "\n",
        "merged_df = pd.concat([class0_df, class1_df, class2_df, class3_df], ignore_index=True)\n"
      ],
      "metadata": {
        "id": "rLC9c2G51rgx"
      },
      "execution_count": 34,
      "outputs": []
    },
    {
      "cell_type": "code",
      "source": [
        "merged_df['cellType'].value_counts()"
      ],
      "metadata": {
        "colab": {
          "base_uri": "https://localhost:8080/"
        },
        "id": "cFaohU42mcqe",
        "outputId": "cd264a87-708f-4282-aadf-24592b965ab4"
      },
      "execution_count": 37,
      "outputs": [
        {
          "output_type": "execute_result",
          "data": {
            "text/plain": [
              "2    7342\n",
              "1    6867\n",
              "0    6796\n",
              "3    6235\n",
              "Name: cellType, dtype: int64"
            ]
          },
          "metadata": {},
          "execution_count": 37
        }
      ]
    },
    {
      "cell_type": "code",
      "source": [
        "train_data, val_data = train_test_split(merged_df, test_size=0.10, random_state=0)\n",
        "# Converting the data labels to string\n",
        "\n",
        "from tensorflow.keras.preprocessing.image import ImageDataGenerator\n",
        "\n",
        "# Real time data augmentation\n",
        "train_datagen = ImageDataGenerator(rescale=1./255, data_format='channels_last')\n",
        "val_datagen = ImageDataGenerator(rescale=1./255, data_format='channels_last')\n",
        "\n",
        "batch_size = 32\n",
        "\n",
        "train_generator_2 = train_datagen.flow_from_dataframe(\n",
        "        dataframe=train_data,\n",
        "        directory='/content/patch_images',\n",
        "        x_col=\"ImageName\",\n",
        "        y_col=\"cellType\",\n",
        "        target_size=(27, 27),\n",
        "        batch_size=batch_size,\n",
        "        class_mode='categorical')\n",
        "\n",
        "valid_generator_2 = val_datagen.flow_from_dataframe(\n",
        "        dataframe=val_data,\n",
        "        directory='/content/patch_images',\n",
        "        x_col=\"ImageName\",\n",
        "        y_col=\"cellType\",\n",
        "        target_size=(27, 27),\n",
        "        batch_size=batch_size,\n",
        "        class_mode='categorical')\n",
        "\n",
        "# test data generator for evaluating the performance of a previously trained model on a test dataset\n",
        "test_data['cellType'] = test_data['cellType'].astype('str')\n",
        "\n",
        "test_datagen = ImageDataGenerator(rescale=1./255, data_format='channels_last')\n",
        "\n",
        "batch_size = 32\n",
        "\n",
        "test_generator_2 = test_datagen.flow_from_dataframe(\n",
        "        dataframe=test_data,\n",
        "        directory='/content/patch_images',\n",
        "        x_col=\"ImageName\",\n",
        "        y_col=\"cellType\",\n",
        "        target_size=(27, 27),\n",
        "        batch_size=batch_size,\n",
        "        class_mode='categorical')"
      ],
      "metadata": {
        "id": "n3K3PvB748jK",
        "colab": {
          "base_uri": "https://localhost:8080/"
        },
        "outputId": "35c4c5f3-e555-42cd-9c98-5dc0886a95bf"
      },
      "execution_count": 35,
      "outputs": [
        {
          "output_type": "stream",
          "name": "stdout",
          "text": [
            "Found 24516 validated image filenames belonging to 4 classes.\n",
            "Found 2724 validated image filenames belonging to 4 classes.\n",
            "Found 990 validated image filenames belonging to 4 classes.\n"
          ]
        }
      ]
    },
    {
      "cell_type": "code",
      "source": [
        "pip install keras-tuner --upgrade"
      ],
      "metadata": {
        "colab": {
          "base_uri": "https://localhost:8080/"
        },
        "id": "Gn8lnsIs5ciV",
        "outputId": "fdf867d9-98e4-4cfb-9e63-f0b59a1061f3"
      },
      "execution_count": 36,
      "outputs": [
        {
          "output_type": "stream",
          "name": "stdout",
          "text": [
            "Looking in indexes: https://pypi.org/simple, https://us-python.pkg.dev/colab-wheels/public/simple/\n",
            "Collecting keras-tuner\n",
            "  Downloading keras_tuner-1.3.5-py3-none-any.whl (176 kB)\n",
            "\u001b[2K     \u001b[90m━━━━━━━━━━━━━━━━━━━━━━━━━━━━━━━━━━━━━━\u001b[0m \u001b[32m176.1/176.1 kB\u001b[0m \u001b[31m15.7 MB/s\u001b[0m eta \u001b[36m0:00:00\u001b[0m\n",
            "\u001b[?25hRequirement already satisfied: packaging in /usr/local/lib/python3.10/dist-packages (from keras-tuner) (23.1)\n",
            "Requirement already satisfied: requests in /usr/local/lib/python3.10/dist-packages (from keras-tuner) (2.27.1)\n",
            "Collecting kt-legacy (from keras-tuner)\n",
            "  Downloading kt_legacy-1.0.5-py3-none-any.whl (9.6 kB)\n",
            "Requirement already satisfied: urllib3<1.27,>=1.21.1 in /usr/local/lib/python3.10/dist-packages (from requests->keras-tuner) (1.26.15)\n",
            "Requirement already satisfied: certifi>=2017.4.17 in /usr/local/lib/python3.10/dist-packages (from requests->keras-tuner) (2022.12.7)\n",
            "Requirement already satisfied: charset-normalizer~=2.0.0 in /usr/local/lib/python3.10/dist-packages (from requests->keras-tuner) (2.0.12)\n",
            "Requirement already satisfied: idna<4,>=2.5 in /usr/local/lib/python3.10/dist-packages (from requests->keras-tuner) (3.4)\n",
            "Installing collected packages: kt-legacy, keras-tuner\n",
            "Successfully installed keras-tuner-1.3.5 kt-legacy-1.0.5\n"
          ]
        }
      ]
    },
    {
      "cell_type": "markdown",
      "source": [
        "#Keras tuner Model"
      ],
      "metadata": {
        "id": "Ymfv0WpuehnX"
      }
    },
    {
      "cell_type": "code",
      "source": [
        "import keras_tuner\n",
        "from tensorflow import keras\n",
        "import tensorflow as tf\n",
        "from tensorflow.keras.models import Sequential\n",
        "from tensorflow.keras.layers import Dense\n",
        "from tensorflow.keras.optimizers import SGD\n",
        "from tensorflow.keras.callbacks import LearningRateScheduler\n",
        "from sklearn.model_selection import train_test_split\n",
        "\n",
        "# Define the model-building function\n",
        "def build_model(hp):\n",
        "    model = keras.Sequential()\n",
        "    \n",
        "    # Tune the number of layers\n",
        "    num_layers = hp.Int('num_layers', min_value=1, max_value=10, step=1)\n",
        "    \n",
        "    # Add convolutional layers\n",
        "    model.add(keras.layers.Conv2D(\n",
        "        filters=hp.Int('conv_1_filter', min_value=16, max_value=128, step=16),\n",
        "        kernel_size=(3, 3),\n",
        "        padding='same',\n",
        "        activation='relu',\n",
        "        input_shape=(27, 27, 3)\n",
        "    ))\n",
        "    model.add(keras.layers.MaxPooling2D(pool_size=(2, 2)))\n",
        "    \n",
        "    for i in range(num_layers-1):\n",
        "        model.add(keras.layers.Conv2D(\n",
        "            filters=hp.Int('conv_{}_filter'.format(i+2), min_value=16, max_value=128, step=16),\n",
        "            kernel_size=(3, 3),\n",
        "            padding='same',\n",
        "            activation='relu'\n",
        "        ))\n",
        "        \n",
        "        # Add conditional check for pooling\n",
        "        if model.output_shape[1] >= 2 and model.output_shape[2] >= 2:\n",
        "            model.add(keras.layers.MaxPooling2D(pool_size=(2, 2)))\n",
        "    \n",
        "    model.add(keras.layers.Flatten())\n",
        "    \n",
        "    num_dense_layers = hp.Int('num_dense_layers', min_value=1, max_value=4, step=1)\n",
        "    \n",
        "    # Add dense layers\n",
        "    for i in range(num_dense_layers):\n",
        "        model.add(keras.layers.Dense(\n",
        "            units=hp.Int('units_' + str(i), min_value=2, max_value=64, step=8),\n",
        "            activation='relu'\n",
        "        ))\n",
        "        model.add(keras.layers.Dropout(rate=0.2))\n",
        "    \n",
        "    model.add(keras.layers.Dense(4, activation='softmax'))\n",
        "    \n",
        "    learning_rate = hp.Choice('learning_rate', values=[0.01, 0.001, 0.0001])\n",
        "    \n",
        "    # Compile the model\n",
        "    model.build(input_shape=(None, 27, 27, 3))  # Build the model to initialize the weights\n",
        "    for layer in model.layers:\n",
        "        if isinstance(layer, tf.keras.layers.Conv2D):\n",
        "            layer.set_weights([tf.random.normal(layer.kernel.shape, mean=0, stddev=0.1), tf.zeros(layer.bias.shape[-1])])\n",
        "\n",
        "\n",
        "    # Optimization Algorithm\n",
        "    optimizer = SGD(lr=learning_rate, momentum=0.9)\n",
        "\n",
        "    # Learning Rate Annealing\n",
        "\n",
        "\n",
        "    # Compile the model\n",
        "    model.compile(optimizer=optimizer, loss='categorical_crossentropy', metrics=['accuracy'])\n",
        "    \n",
        "    return model\n"
      ],
      "metadata": {
        "id": "1Com8ASOYVME"
      },
      "execution_count": 38,
      "outputs": []
    },
    {
      "cell_type": "code",
      "source": [
        "from tensorflow.keras.callbacks import EarlyStopping\n",
        "import keras_tuner\n",
        "from tensorflow import keras\n",
        "\n",
        "# Instantiate the tuner\n",
        "tuner = keras_tuner.RandomSearch(\n",
        "    build_model,\n",
        "    objective='val_loss',\n",
        "    max_trials=15,\n",
        "    directory='op0005dfdf778787856500000000',\n",
        "    project_name='cancer_cell_detection'\n",
        ")\n",
        "\n",
        "earlyStopping_1 = EarlyStopping(\n",
        "    monitor='val_loss',\n",
        "    min_delta=0.05,\n",
        "    patience=3,\n",
        "    verbose=1,\n",
        "    mode='auto'\n",
        ")\n",
        "\n",
        "# Perform the hyperparameter search\n",
        "tuner.search(\n",
        "    train_generator_2,\n",
        "    epochs=51,\n",
        "    validation_data=valid_generator_2,\n",
        "    callbacks=[earlyStopping_1]\n",
        ")\n",
        "\n",
        "# Retrieve the best model\n",
        "tue_model = tuner.get_best_models(1)[0]\n",
        "tue_model.summary()"
      ],
      "metadata": {
        "colab": {
          "base_uri": "https://localhost:8080/"
        },
        "id": "WQeA8sOKYPQL",
        "outputId": "0abf9e4e-3b9f-4e4b-a60b-19902bd49d27"
      },
      "execution_count": 40,
      "outputs": [
        {
          "output_type": "stream",
          "name": "stdout",
          "text": [
            "Trial 15 Complete [00h 00m 45s]\n",
            "val_loss: 1.3840007781982422\n",
            "\n",
            "Best val_loss So Far: 0.7027128338813782\n",
            "Total elapsed time: 00h 17m 54s\n"
          ]
        },
        {
          "output_type": "stream",
          "name": "stderr",
          "text": [
            "WARNING:absl:`lr` is deprecated in Keras optimizer, please use `learning_rate` or use the legacy optimizer, e.g.,tf.keras.optimizers.legacy.SGD.\n"
          ]
        },
        {
          "output_type": "stream",
          "name": "stdout",
          "text": [
            "Model: \"sequential\"\n",
            "_________________________________________________________________\n",
            " Layer (type)                Output Shape              Param #   \n",
            "=================================================================\n",
            " conv2d (Conv2D)             (None, 27, 27, 32)        896       \n",
            "                                                                 \n",
            " max_pooling2d (MaxPooling2D  (None, 13, 13, 32)       0         \n",
            " )                                                               \n",
            "                                                                 \n",
            " conv2d_1 (Conv2D)           (None, 13, 13, 16)        4624      \n",
            "                                                                 \n",
            " max_pooling2d_1 (MaxPooling  (None, 6, 6, 16)         0         \n",
            " 2D)                                                             \n",
            "                                                                 \n",
            " conv2d_2 (Conv2D)           (None, 6, 6, 64)          9280      \n",
            "                                                                 \n",
            " max_pooling2d_2 (MaxPooling  (None, 3, 3, 64)         0         \n",
            " 2D)                                                             \n",
            "                                                                 \n",
            " conv2d_3 (Conv2D)           (None, 3, 3, 80)          46160     \n",
            "                                                                 \n",
            " max_pooling2d_3 (MaxPooling  (None, 1, 1, 80)         0         \n",
            " 2D)                                                             \n",
            "                                                                 \n",
            " conv2d_4 (Conv2D)           (None, 1, 1, 48)          34608     \n",
            "                                                                 \n",
            " conv2d_5 (Conv2D)           (None, 1, 1, 96)          41568     \n",
            "                                                                 \n",
            " conv2d_6 (Conv2D)           (None, 1, 1, 112)         96880     \n",
            "                                                                 \n",
            " conv2d_7 (Conv2D)           (None, 1, 1, 16)          16144     \n",
            "                                                                 \n",
            " conv2d_8 (Conv2D)           (None, 1, 1, 96)          13920     \n",
            "                                                                 \n",
            " conv2d_9 (Conv2D)           (None, 1, 1, 16)          13840     \n",
            "                                                                 \n",
            " flatten (Flatten)           (None, 16)                0         \n",
            "                                                                 \n",
            " dense (Dense)               (None, 42)                714       \n",
            "                                                                 \n",
            " dropout (Dropout)           (None, 42)                0         \n",
            "                                                                 \n",
            " dense_1 (Dense)             (None, 4)                 172       \n",
            "                                                                 \n",
            "=================================================================\n",
            "Total params: 278,806\n",
            "Trainable params: 278,806\n",
            "Non-trainable params: 0\n",
            "_________________________________________________________________\n"
          ]
        }
      ]
    },
    {
      "cell_type": "code",
      "source": [
        "tue_model.save(\"best_model.h5\")"
      ],
      "metadata": {
        "id": "KOoXabkAtkRe"
      },
      "execution_count": 47,
      "outputs": []
    },
    {
      "cell_type": "markdown",
      "source": [
        "## Evaluation"
      ],
      "metadata": {
        "id": "V4-v-fGCoFin"
      }
    },
    {
      "cell_type": "code",
      "source": [
        "from keras.models import load_model\n",
        "tue_model.evaluate(test_generator_2)\n",
        "tue_model.evaluate(train_generator_2)\n",
        "tue_model.evaluate(valid_generator_2)"
      ],
      "metadata": {
        "colab": {
          "base_uri": "https://localhost:8080/"
        },
        "id": "kZR-sV_PXq2e",
        "outputId": "7b2be4b7-f448-4025-e753-b21d2d71d51a"
      },
      "execution_count": 46,
      "outputs": [
        {
          "output_type": "stream",
          "name": "stdout",
          "text": [
            "31/31 [==============================] - 1s 18ms/step - loss: 0.6412 - accuracy: 0.7505\n",
            "767/767 [==============================] - 10s 13ms/step - loss: 0.6822 - accuracy: 0.7212\n",
            "86/86 [==============================] - 1s 12ms/step - loss: 0.7027 - accuracy: 0.7081\n"
          ]
        },
        {
          "output_type": "execute_result",
          "data": {
            "text/plain": [
              "[0.7027127742767334, 0.708149790763855]"
            ]
          },
          "metadata": {},
          "execution_count": 46
        }
      ]
    },
    {
      "cell_type": "code",
      "source": [
        "from sklearn.metrics import classification_report\n",
        "import numpy as np\n",
        "from keras.utils import to_categorical\n",
        "\n",
        "# Make predictions using the model on the generator data\n",
        "# Make predictions using the model on the generator data\n",
        "# Make predictions using the model on the generator data\n",
        "y_pred_prob = tue_model.predict(test_generator_2)\n",
        "y_pred = np.argmax(y_pred_prob, axis=1)\n",
        "\n",
        "# Concatenate true labels from the generator data\n",
        "y_true = np.concatenate([test_generator_2[i][1] for i in range(len(test_generator_2))])\n",
        "y_true = np.argmax(y_true, axis=1)\n",
        "\n",
        "# Print the true class labels, predicted probabilities, and predicted class labels side by side\n",
        "# Convert true labels to multilabel-indicator format if necessary\n",
        "\n",
        "# Compute the classification report\n",
        "report = classification_report(y_true, y_pred)\n",
        "print(report)\n"
      ],
      "metadata": {
        "colab": {
          "base_uri": "https://localhost:8080/"
        },
        "id": "dkBqcod_6huw",
        "outputId": "6540ed29-40de-4ae0-ed45-701b2f23f59b"
      },
      "execution_count": 45,
      "outputs": [
        {
          "output_type": "stream",
          "name": "stdout",
          "text": [
            "31/31 [==============================] - 0s 11ms/step\n",
            "              precision    recall  f1-score   support\n",
            "\n",
            "           0       0.17      0.13      0.15       189\n",
            "           1       0.26      0.33      0.29       254\n",
            "           2       0.43      0.42      0.43       408\n",
            "           3       0.12      0.11      0.11       139\n",
            "\n",
            "    accuracy                           0.30       990\n",
            "   macro avg       0.25      0.25      0.25       990\n",
            "weighted avg       0.30      0.30      0.30       990\n",
            "\n"
          ]
        }
      ]
    }
  ]
}