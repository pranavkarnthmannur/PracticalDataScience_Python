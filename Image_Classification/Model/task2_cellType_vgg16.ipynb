{
  "nbformat": 4,
  "nbformat_minor": 0,
  "metadata": {
    "colab": {
      "provenance": [],
      "gpuType": "T4"
    },
    "kernelspec": {
      "name": "python3",
      "display_name": "Python 3"
    },
    "language_info": {
      "name": "python"
    },
    "accelerator": "GPU",
    "gpuClass": "standard"
  },
  "cells": [
    {
      "cell_type": "code",
      "execution_count": null,
      "metadata": {
        "id": "aiSRh05jUeHM"
      },
      "outputs": [],
      "source": [
        "import zipfile\n",
        "\n",
        "# Extracting ZIP file for the images and CSV file\n",
        "with zipfile.ZipFile('/content/Image_classification_data.zip', 'r') as zip_ref:\n",
        "    zip_ref.extractall('./')"
      ]
    },
    {
      "cell_type": "code",
      "source": [
        "import numpy as np\n",
        "from sklearn.model_selection import train_test_split\n",
        "import pandas as pd\n",
        "from tensorflow import keras\n",
        "import tensorflow as tf\n",
        "import matplotlib.pyplot as plt\n",
        "from sklearn.metrics import accuracy_score,confusion_matrix,classification_report\n",
        "from tensorflow.keras import datasets, layers, models\n",
        "import cv2\n",
        "from tensorflow.keras.preprocessing.image import ImageDataGenerator\n",
        "from keras.layers import Dense, Activation, Flatten, Dropout, BatchNormalization"
      ],
      "metadata": {
        "id": "zSVDPt-7UtOg"
      },
      "execution_count": null,
      "outputs": []
    },
    {
      "cell_type": "markdown",
      "source": [
        "# Splitting the Dataset"
      ],
      "metadata": {
        "id": "qV8oLm9GcccY"
      }
    },
    {
      "cell_type": "code",
      "source": [
        "data_main = pd.read_csv('/content/data_labels_mainData.csv')\n",
        "data_main = data_main[['ImageName', 'cellType']]\n",
        "data_main['cellType'] = data_main['cellType'].astype('str')\n",
        "#Splitting data into train, test and validation\n",
        "train_data, test_data = train_test_split(data_main, test_size=0.2, random_state=0)\n",
        "train_data, val_data = train_test_split(train_data, test_size=0.25, random_state=0)\n",
        "\n",
        "print(\"Train data : {}, Val Data: {}, Test Data: {}\".format(train_data.shape[0], val_data.shape[0], test_data.shape[0]))"
      ],
      "metadata": {
        "colab": {
          "base_uri": "https://localhost:8080/"
        },
        "id": "t_ilhJF-Uvql",
        "outputId": "e5840a4c-d4a9-4b15-eb2e-631ec2cbf2d1"
      },
      "execution_count": null,
      "outputs": [
        {
          "output_type": "stream",
          "name": "stdout",
          "text": [
            "Train data : 5937, Val Data: 1979, Test Data: 1980\n"
          ]
        },
        {
          "output_type": "stream",
          "name": "stderr",
          "text": [
            "<ipython-input-3-bfe94a99d07e>:3: SettingWithCopyWarning: \n",
            "A value is trying to be set on a copy of a slice from a DataFrame.\n",
            "Try using .loc[row_indexer,col_indexer] = value instead\n",
            "\n",
            "See the caveats in the documentation: https://pandas.pydata.org/pandas-docs/stable/user_guide/indexing.html#returning-a-view-versus-a-copy\n",
            "  data_main['cellType'] = data_main['cellType'].astype('str')\n"
          ]
        }
      ]
    },
    {
      "cell_type": "code",
      "source": [
        "def plot_learning_curve(train_loss, val_loss, train_metric, val_metric, metric_name='Accuracy'):\n",
        "    plt.figure(figsize=(10,5))\n",
        "    \n",
        "    plt.subplot(1,2,1)\n",
        "    plt.plot(train_loss, 'r--')\n",
        "    plt.plot(val_loss, 'b--')\n",
        "    plt.xlabel(\"epochs\")\n",
        "    plt.ylabel(\"Loss\")\n",
        "    plt.legend(['train', 'val'], loc='upper left')\n",
        "\n",
        "    plt.subplot(1,2,2)\n",
        "    plt.plot(train_metric, 'r--')\n",
        "    plt.plot(val_metric, 'b--')\n",
        "    plt.xlabel(\"epochs\")\n",
        "    plt.ylabel(metric_name)\n",
        "    plt.legend(['train', 'val'], loc='upper left')\n",
        "\n",
        "    plt.show()"
      ],
      "metadata": {
        "id": "wrn8VqQPU3nZ"
      },
      "execution_count": null,
      "outputs": []
    },
    {
      "cell_type": "markdown",
      "source": [
        "# Model"
      ],
      "metadata": {
        "id": "ZoIGdLLkcZSn"
      }
    },
    {
      "cell_type": "code",
      "source": [
        "from tensorflow.keras.callbacks import EarlyStopping, ReduceLROnPlateau\n",
        "from tensorflow.keras.preprocessing.image import ImageDataGenerator\n",
        "from tensorflow.keras.applications import VGG16\n",
        "from tensorflow.keras.layers import Dense, Flatten, Dropout, Conv2D, MaxPooling2D\n",
        "from tensorflow.keras.models import Model\n",
        "from tensorflow.keras.regularizers import l2\n",
        "\n",
        "batch_size=64\n",
        "\n",
        "# Define data generators for training, validation, and testing sets\n",
        "train_datagen = ImageDataGenerator(\n",
        "    rotation_range=20,\n",
        "    width_shift_range=0.1,\n",
        "    height_shift_range=0.1,\n",
        "    zoom_range=0.2,\n",
        "    horizontal_flip=True,\n",
        "    rescale=1./255,\n",
        "    shear_range=0.2,\n",
        "    fill_mode='nearest')\n",
        "\n",
        "val_datagen = ImageDataGenerator(rescale=1./255)\n",
        "\n",
        "test_datagen = ImageDataGenerator(rescale=1./255)\n",
        "\n",
        "train_generator = train_datagen.flow_from_dataframe(\n",
        "    dataframe=train_data,\n",
        "    directory='/content/patch_images',\n",
        "    x_col=\"ImageName\",\n",
        "    y_col=\"cellType\",\n",
        "    target_size=(64, 64),\n",
        "    batch_size=batch_size,\n",
        "    class_mode='categorical')\n",
        "\n",
        "valid_generator = val_datagen.flow_from_dataframe(\n",
        "    dataframe=val_data,\n",
        "    directory='/content/patch_images',\n",
        "    x_col=\"ImageName\",\n",
        "    y_col=\"cellType\",\n",
        "    target_size=(64, 64),\n",
        "    batch_size=batch_size,\n",
        "    class_mode='categorical')\n",
        "\n",
        "test_generator = test_datagen.flow_from_dataframe(\n",
        "    dataframe=test_data,\n",
        "    directory='/content/patch_images',\n",
        "    x_col=\"ImageName\",\n",
        "    y_col=\"cellType\",\n",
        "    target_size=(64, 64),\n",
        "    batch_size=batch_size,\n",
        "    class_mode='categorical')\n",
        "\n",
        "# Create an instance of the VGG16 model with imagenet weights\n",
        "vgg16 = VGG16(weights='imagenet', include_top=False, input_shape=(64, 64, 3))\n",
        "\n",
        "# Freeze the first few layers in the VGG16 model and keep the later layers trainable\n",
        "for layer in vgg16.layers[:10]:\n",
        "    layer.trainable = False\n",
        "\n",
        "# Add custom layers on top of the VGG16 model with L2 regularization and dropout\n",
        "x = vgg16.output\n",
        "x = Conv2D(filters=64, kernel_size=(3, 3), activation='relu', padding='same')(x)\n",
        "x = MaxPooling2D(pool_size=(2, 2))(x)\n",
        "x = Flatten()(x)\n",
        "x = Dense(256, activation='relu', kernel_regularizer=l2(0.05))(x)\n",
        "x = Dropout(0.5)(x)\n",
        "x = Dense(128, activation='relu', kernel_regularizer=l2(0.05))(x)\n",
        "x = Dropout(0.5)(x)\n",
        "x = Dense(64, activation='relu', kernel_regularizer=l2(0.05))(x)\n",
        "x = Dropout(0.5)(x)\n",
        "\n",
        "predictions = Dense(4, activation='softmax')(x)\n",
        "\n",
        "model = Model(inputs=vgg16.input, outputs=predictions)\n",
        "\n",
        "model.compile(loss='categorical_crossentropy',\n",
        "optimizer='adam',\n",
        "metrics=['accuracy'])\n",
        "\n",
        "early_stop = EarlyStopping(patience=10, verbose=1, restore_best_weights=True)\n",
        "reduce_lr = ReduceLROnPlateau(factor=0.1, patience=5, verbose=1)\n",
        "\n",
        "history = model.fit(train_generator,\n",
        "steps_per_epoch=train_generator.n // batch_size,\n",
        "validation_data=valid_generator,\n",
        "validation_steps=valid_generator.n // batch_size,\n",
        "epochs=100,\n",
        "callbacks=[early_stop, reduce_lr])"
      ],
      "metadata": {
        "colab": {
          "base_uri": "https://localhost:8080/"
        },
        "id": "zAXp8QTrqNVa",
        "outputId": "6ea2a2e8-4b11-4117-f94e-99068fa8b86e"
      },
      "execution_count": null,
      "outputs": [
        {
          "output_type": "stream",
          "name": "stdout",
          "text": [
            "Found 5937 validated image filenames belonging to 4 classes.\n",
            "Found 1979 validated image filenames belonging to 4 classes.\n",
            "Found 1980 validated image filenames belonging to 4 classes.\n",
            "Downloading data from https://storage.googleapis.com/tensorflow/keras-applications/vgg16/vgg16_weights_tf_dim_ordering_tf_kernels_notop.h5\n",
            "58889256/58889256 [==============================] - 1s 0us/step\n",
            "Epoch 1/100\n",
            "92/92 [==============================] - 32s 143ms/step - loss: 9.4824 - accuracy: 0.3817 - val_loss: 3.7093 - val_accuracy: 0.4182 - lr: 0.0010\n",
            "Epoch 2/100\n",
            "92/92 [==============================] - 11s 124ms/step - loss: 2.2905 - accuracy: 0.4105 - val_loss: 1.5647 - val_accuracy: 0.4224 - lr: 0.0010\n",
            "Epoch 3/100\n",
            "92/92 [==============================] - 12s 128ms/step - loss: 1.4011 - accuracy: 0.4401 - val_loss: 1.3023 - val_accuracy: 0.4214 - lr: 0.0010\n",
            "Epoch 4/100\n",
            "92/92 [==============================] - 12s 128ms/step - loss: 1.1511 - accuracy: 0.5513 - val_loss: 1.0742 - val_accuracy: 0.5651 - lr: 0.0010\n",
            "Epoch 5/100\n",
            "92/92 [==============================] - 13s 136ms/step - loss: 1.0412 - accuracy: 0.5982 - val_loss: 0.9321 - val_accuracy: 0.6052 - lr: 0.0010\n",
            "Epoch 6/100\n",
            "92/92 [==============================] - 12s 130ms/step - loss: 0.9742 - accuracy: 0.6050 - val_loss: 0.9204 - val_accuracy: 0.6026 - lr: 0.0010\n",
            "Epoch 7/100\n",
            "92/92 [==============================] - 11s 121ms/step - loss: 0.9550 - accuracy: 0.6082 - val_loss: 0.9284 - val_accuracy: 0.6052 - lr: 0.0010\n",
            "Epoch 8/100\n",
            "92/92 [==============================] - 12s 126ms/step - loss: 0.9324 - accuracy: 0.6208 - val_loss: 0.8655 - val_accuracy: 0.6135 - lr: 0.0010\n",
            "Epoch 9/100\n",
            "92/92 [==============================] - 12s 126ms/step - loss: 0.9257 - accuracy: 0.6339 - val_loss: 0.8202 - val_accuracy: 0.6766 - lr: 0.0010\n",
            "Epoch 10/100\n",
            "92/92 [==============================] - 12s 126ms/step - loss: 0.8965 - accuracy: 0.6540 - val_loss: 0.8541 - val_accuracy: 0.6729 - lr: 0.0010\n",
            "Epoch 11/100\n",
            "92/92 [==============================] - 12s 125ms/step - loss: 0.8882 - accuracy: 0.6676 - val_loss: 0.8307 - val_accuracy: 0.6781 - lr: 0.0010\n",
            "Epoch 12/100\n",
            "92/92 [==============================] - 12s 128ms/step - loss: 0.8768 - accuracy: 0.6806 - val_loss: 0.8356 - val_accuracy: 0.6938 - lr: 0.0010\n",
            "Epoch 13/100\n",
            "92/92 [==============================] - 12s 126ms/step - loss: 0.8782 - accuracy: 0.6801 - val_loss: 0.8322 - val_accuracy: 0.6995 - lr: 0.0010\n",
            "Epoch 14/100\n",
            "92/92 [==============================] - 12s 130ms/step - loss: 0.8638 - accuracy: 0.6910 - val_loss: 0.7760 - val_accuracy: 0.7109 - lr: 0.0010\n",
            "Epoch 15/100\n",
            "92/92 [==============================] - 12s 127ms/step - loss: 0.8779 - accuracy: 0.6950 - val_loss: 0.8126 - val_accuracy: 0.7089 - lr: 0.0010\n",
            "Epoch 16/100\n",
            "92/92 [==============================] - 12s 129ms/step - loss: 0.8478 - accuracy: 0.6935 - val_loss: 0.7639 - val_accuracy: 0.7208 - lr: 0.0010\n",
            "Epoch 17/100\n",
            "92/92 [==============================] - 11s 122ms/step - loss: 0.8481 - accuracy: 0.7017 - val_loss: 0.7725 - val_accuracy: 0.7078 - lr: 0.0010\n",
            "Epoch 18/100\n",
            "92/92 [==============================] - 12s 128ms/step - loss: 0.8464 - accuracy: 0.7020 - val_loss: 1.0346 - val_accuracy: 0.6479 - lr: 0.0010\n",
            "Epoch 19/100\n",
            "92/92 [==============================] - 12s 125ms/step - loss: 0.8470 - accuracy: 0.6978 - val_loss: 0.7333 - val_accuracy: 0.7302 - lr: 0.0010\n",
            "Epoch 20/100\n",
            "92/92 [==============================] - 11s 124ms/step - loss: 0.8326 - accuracy: 0.7061 - val_loss: 0.7729 - val_accuracy: 0.7260 - lr: 0.0010\n",
            "Epoch 21/100\n",
            "92/92 [==============================] - 12s 129ms/step - loss: 0.8249 - accuracy: 0.7034 - val_loss: 0.8418 - val_accuracy: 0.7130 - lr: 0.0010\n",
            "Epoch 22/100\n",
            "92/92 [==============================] - 12s 130ms/step - loss: 0.8267 - accuracy: 0.7037 - val_loss: 0.7602 - val_accuracy: 0.7188 - lr: 0.0010\n",
            "Epoch 23/100\n",
            "92/92 [==============================] - 12s 128ms/step - loss: 0.8265 - accuracy: 0.7063 - val_loss: 0.7686 - val_accuracy: 0.7271 - lr: 0.0010\n",
            "Epoch 24/100\n",
            "92/92 [==============================] - ETA: 0s - loss: 0.7864 - accuracy: 0.7209\n",
            "Epoch 24: ReduceLROnPlateau reducing learning rate to 0.00010000000474974513.\n",
            "92/92 [==============================] - 12s 128ms/step - loss: 0.7864 - accuracy: 0.7209 - val_loss: 0.7479 - val_accuracy: 0.7234 - lr: 0.0010\n",
            "Epoch 25/100\n",
            "92/92 [==============================] - 11s 121ms/step - loss: 0.7546 - accuracy: 0.7340 - val_loss: 0.6959 - val_accuracy: 0.7437 - lr: 1.0000e-04\n",
            "Epoch 26/100\n",
            "92/92 [==============================] - 11s 124ms/step - loss: 0.7434 - accuracy: 0.7327 - val_loss: 0.6714 - val_accuracy: 0.7495 - lr: 1.0000e-04\n",
            "Epoch 27/100\n",
            "92/92 [==============================] - 12s 129ms/step - loss: 0.7131 - accuracy: 0.7407 - val_loss: 0.6777 - val_accuracy: 0.7531 - lr: 1.0000e-04\n",
            "Epoch 28/100\n",
            "92/92 [==============================] - 12s 128ms/step - loss: 0.7180 - accuracy: 0.7374 - val_loss: 0.6595 - val_accuracy: 0.7583 - lr: 1.0000e-04\n",
            "Epoch 29/100\n",
            "92/92 [==============================] - 11s 124ms/step - loss: 0.7034 - accuracy: 0.7424 - val_loss: 0.6526 - val_accuracy: 0.7552 - lr: 1.0000e-04\n",
            "Epoch 30/100\n",
            "92/92 [==============================] - 11s 122ms/step - loss: 0.7006 - accuracy: 0.7453 - val_loss: 0.6611 - val_accuracy: 0.7542 - lr: 1.0000e-04\n",
            "Epoch 31/100\n",
            "92/92 [==============================] - 12s 126ms/step - loss: 0.6988 - accuracy: 0.7419 - val_loss: 0.6606 - val_accuracy: 0.7542 - lr: 1.0000e-04\n",
            "Epoch 32/100\n",
            "92/92 [==============================] - 11s 120ms/step - loss: 0.6927 - accuracy: 0.7414 - val_loss: 0.6579 - val_accuracy: 0.7505 - lr: 1.0000e-04\n",
            "Epoch 33/100\n",
            "92/92 [==============================] - 11s 124ms/step - loss: 0.6974 - accuracy: 0.7422 - val_loss: 0.6494 - val_accuracy: 0.7557 - lr: 1.0000e-04\n",
            "Epoch 34/100\n",
            "92/92 [==============================] - 12s 128ms/step - loss: 0.6837 - accuracy: 0.7477 - val_loss: 0.6686 - val_accuracy: 0.7552 - lr: 1.0000e-04\n",
            "Epoch 35/100\n",
            "92/92 [==============================] - 12s 129ms/step - loss: 0.6914 - accuracy: 0.7407 - val_loss: 0.6476 - val_accuracy: 0.7573 - lr: 1.0000e-04\n",
            "Epoch 36/100\n",
            "92/92 [==============================] - 12s 129ms/step - loss: 0.6774 - accuracy: 0.7439 - val_loss: 0.6366 - val_accuracy: 0.7630 - lr: 1.0000e-04\n",
            "Epoch 37/100\n",
            "92/92 [==============================] - 12s 129ms/step - loss: 0.6697 - accuracy: 0.7511 - val_loss: 0.6371 - val_accuracy: 0.7599 - lr: 1.0000e-04\n",
            "Epoch 38/100\n",
            "92/92 [==============================] - 12s 126ms/step - loss: 0.6765 - accuracy: 0.7470 - val_loss: 0.6361 - val_accuracy: 0.7646 - lr: 1.0000e-04\n",
            "Epoch 39/100\n",
            "92/92 [==============================] - 11s 125ms/step - loss: 0.6825 - accuracy: 0.7431 - val_loss: 0.6402 - val_accuracy: 0.7620 - lr: 1.0000e-04\n",
            "Epoch 40/100\n",
            "92/92 [==============================] - 11s 120ms/step - loss: 0.6680 - accuracy: 0.7463 - val_loss: 0.6220 - val_accuracy: 0.7620 - lr: 1.0000e-04\n",
            "Epoch 41/100\n",
            "92/92 [==============================] - 12s 128ms/step - loss: 0.6689 - accuracy: 0.7531 - val_loss: 0.6213 - val_accuracy: 0.7698 - lr: 1.0000e-04\n",
            "Epoch 42/100\n",
            "92/92 [==============================] - 12s 129ms/step - loss: 0.6553 - accuracy: 0.7517 - val_loss: 0.6440 - val_accuracy: 0.7630 - lr: 1.0000e-04\n",
            "Epoch 43/100\n",
            "92/92 [==============================] - 12s 126ms/step - loss: 0.6638 - accuracy: 0.7538 - val_loss: 0.6356 - val_accuracy: 0.7651 - lr: 1.0000e-04\n",
            "Epoch 44/100\n",
            "92/92 [==============================] - 12s 129ms/step - loss: 0.6629 - accuracy: 0.7489 - val_loss: 0.6276 - val_accuracy: 0.7656 - lr: 1.0000e-04\n",
            "Epoch 45/100\n",
            "92/92 [==============================] - 12s 129ms/step - loss: 0.6534 - accuracy: 0.7524 - val_loss: 0.6310 - val_accuracy: 0.7651 - lr: 1.0000e-04\n",
            "Epoch 46/100\n",
            "92/92 [==============================] - ETA: 0s - loss: 0.6510 - accuracy: 0.7524\n",
            "Epoch 46: ReduceLROnPlateau reducing learning rate to 1.0000000474974514e-05.\n",
            "92/92 [==============================] - 12s 125ms/step - loss: 0.6510 - accuracy: 0.7524 - val_loss: 0.6339 - val_accuracy: 0.7651 - lr: 1.0000e-04\n",
            "Epoch 47/100\n",
            "92/92 [==============================] - 12s 125ms/step - loss: 0.6499 - accuracy: 0.7570 - val_loss: 0.6217 - val_accuracy: 0.7693 - lr: 1.0000e-05\n",
            "Epoch 48/100\n",
            "92/92 [==============================] - 12s 126ms/step - loss: 0.6435 - accuracy: 0.7615 - val_loss: 0.6249 - val_accuracy: 0.7641 - lr: 1.0000e-05\n",
            "Epoch 49/100\n",
            "92/92 [==============================] - 12s 129ms/step - loss: 0.6491 - accuracy: 0.7541 - val_loss: 0.6177 - val_accuracy: 0.7667 - lr: 1.0000e-05\n",
            "Epoch 50/100\n",
            "92/92 [==============================] - 12s 124ms/step - loss: 0.6459 - accuracy: 0.7601 - val_loss: 0.6274 - val_accuracy: 0.7677 - lr: 1.0000e-05\n",
            "Epoch 51/100\n",
            "92/92 [==============================] - 11s 124ms/step - loss: 0.6429 - accuracy: 0.7546 - val_loss: 0.6199 - val_accuracy: 0.7677 - lr: 1.0000e-05\n",
            "Epoch 52/100\n",
            "92/92 [==============================] - 12s 126ms/step - loss: 0.6433 - accuracy: 0.7558 - val_loss: 0.6284 - val_accuracy: 0.7688 - lr: 1.0000e-05\n",
            "Epoch 53/100\n",
            "92/92 [==============================] - 11s 125ms/step - loss: 0.6365 - accuracy: 0.7569 - val_loss: 0.6204 - val_accuracy: 0.7714 - lr: 1.0000e-05\n",
            "Epoch 54/100\n",
            "92/92 [==============================] - ETA: 0s - loss: 0.6444 - accuracy: 0.7504\n",
            "Epoch 54: ReduceLROnPlateau reducing learning rate to 1.0000000656873453e-06.\n",
            "92/92 [==============================] - 12s 125ms/step - loss: 0.6444 - accuracy: 0.7504 - val_loss: 0.6296 - val_accuracy: 0.7677 - lr: 1.0000e-05\n",
            "Epoch 55/100\n",
            "92/92 [==============================] - 12s 125ms/step - loss: 0.6479 - accuracy: 0.7534 - val_loss: 0.6224 - val_accuracy: 0.7734 - lr: 1.0000e-06\n",
            "Epoch 56/100\n",
            "92/92 [==============================] - 11s 123ms/step - loss: 0.6375 - accuracy: 0.7611 - val_loss: 0.6129 - val_accuracy: 0.7750 - lr: 1.0000e-06\n",
            "Epoch 57/100\n",
            "92/92 [==============================] - 11s 122ms/step - loss: 0.6451 - accuracy: 0.7543 - val_loss: 0.6153 - val_accuracy: 0.7719 - lr: 1.0000e-06\n",
            "Epoch 58/100\n",
            "92/92 [==============================] - 12s 130ms/step - loss: 0.6391 - accuracy: 0.7589 - val_loss: 0.6248 - val_accuracy: 0.7714 - lr: 1.0000e-06\n",
            "Epoch 59/100\n",
            "92/92 [==============================] - 12s 130ms/step - loss: 0.6330 - accuracy: 0.7608 - val_loss: 0.6239 - val_accuracy: 0.7766 - lr: 1.0000e-06\n",
            "Epoch 60/100\n",
            "92/92 [==============================] - 15s 160ms/step - loss: 0.6401 - accuracy: 0.7611 - val_loss: 0.6215 - val_accuracy: 0.7708 - lr: 1.0000e-06\n",
            "Epoch 61/100\n",
            "92/92 [==============================] - ETA: 0s - loss: 0.6431 - accuracy: 0.7575\n",
            "Epoch 61: ReduceLROnPlateau reducing learning rate to 1.0000001111620805e-07.\n",
            "92/92 [==============================] - 12s 126ms/step - loss: 0.6431 - accuracy: 0.7575 - val_loss: 0.6259 - val_accuracy: 0.7719 - lr: 1.0000e-06\n",
            "Epoch 62/100\n",
            "92/92 [==============================] - 12s 130ms/step - loss: 0.6348 - accuracy: 0.7637 - val_loss: 0.6237 - val_accuracy: 0.7714 - lr: 1.0000e-07\n",
            "Epoch 63/100\n",
            "92/92 [==============================] - 11s 120ms/step - loss: 0.6397 - accuracy: 0.7580 - val_loss: 0.6204 - val_accuracy: 0.7729 - lr: 1.0000e-07\n",
            "Epoch 64/100\n",
            "92/92 [==============================] - 12s 129ms/step - loss: 0.6409 - accuracy: 0.7603 - val_loss: 0.6286 - val_accuracy: 0.7688 - lr: 1.0000e-07\n",
            "Epoch 65/100\n",
            "92/92 [==============================] - 12s 125ms/step - loss: 0.6403 - accuracy: 0.7570 - val_loss: 0.6267 - val_accuracy: 0.7703 - lr: 1.0000e-07\n",
            "Epoch 66/100\n",
            "92/92 [==============================] - ETA: 0s - loss: 0.6362 - accuracy: 0.7608Restoring model weights from the end of the best epoch: 56.\n",
            "\n",
            "Epoch 66: ReduceLROnPlateau reducing learning rate to 1.000000082740371e-08.\n",
            "92/92 [==============================] - 12s 126ms/step - loss: 0.6362 - accuracy: 0.7608 - val_loss: 0.6261 - val_accuracy: 0.7714 - lr: 1.0000e-07\n",
            "Epoch 66: early stopping\n"
          ]
        }
      ]
    },
    {
      "cell_type": "markdown",
      "source": [
        "# Metrics and learning curve"
      ],
      "metadata": {
        "id": "ezJybDWhcVfH"
      }
    },
    {
      "cell_type": "code",
      "source": [
        "model.evaluate(train_generator)\n",
        "model.evaluate(test_generator)\n",
        "model.evaluate(valid_generator)"
      ],
      "metadata": {
        "colab": {
          "base_uri": "https://localhost:8080/"
        },
        "id": "0LjRvvTttxHK",
        "outputId": "91ec86ca-02c6-4366-86ba-9cb45921970e"
      },
      "execution_count": null,
      "outputs": [
        {
          "output_type": "stream",
          "name": "stdout",
          "text": [
            "93/93 [==============================] - 10s 111ms/step - loss: 0.6041 - accuracy: 0.7706\n",
            "31/31 [==============================] - 2s 72ms/step - loss: 0.6397 - accuracy: 0.7571\n",
            "31/31 [==============================] - 2s 73ms/step - loss: 0.6225 - accuracy: 0.7731\n"
          ]
        },
        {
          "output_type": "execute_result",
          "data": {
            "text/plain": [
              "[0.622515082359314, 0.77311772108078]"
            ]
          },
          "metadata": {},
          "execution_count": 6
        }
      ]
    },
    {
      "cell_type": "code",
      "source": [
        "plot_learning_curve(history.history['loss'],history.history['val_loss'], \n",
        "                    history.history['accuracy'], history.history['val_accuracy'], \n",
        "                    metric_name='Accuracy')"
      ],
      "metadata": {
        "colab": {
          "base_uri": "https://localhost:8080/",
          "height": 465
        },
        "id": "CV-QfpRkwkDh",
        "outputId": "6ca46632-a20b-4a05-a812-2a80f2077553"
      },
      "execution_count": null,
      "outputs": [
        {
          "output_type": "display_data",
          "data": {
            "text/plain": [
              "<Figure size 1000x500 with 2 Axes>"
            ],
            "image/png": "[encoded data removed]"
          },
          "metadata": {}
        }
      ]
    },
    {
      "cell_type": "code",
      "source": [],
      "metadata": {
        "id": "NP2cMJVl-Bfe"
      },
      "execution_count": null,
      "outputs": []
    }
  ]
}